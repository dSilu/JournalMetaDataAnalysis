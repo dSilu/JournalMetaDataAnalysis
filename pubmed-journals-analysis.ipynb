{
 "cells": [
  {
   "cell_type": "markdown",
   "metadata": {},
   "source": [
    "# Text Analysis of Journal MetaData\n",
    "\n",
    "-----"
   ]
  },
  {
   "cell_type": "markdown",
   "metadata": {},
   "source": [
    "### About dataset\n",
    "- The data contains metadata of 399 published papers on cancer research till Jan 2022.\n",
    "\n",
    "- The data contains details about journals i.e. publication ID, Title, Authors, Citations, First Author, Publication journal or book, publication data, and DOI, that are published on various cancer research topics.\n",
    "\n",
    "- The data is being collected from `PubMed` site. \n",
    "\n",
    "### Aim of the study:\n",
    "- To practice and perform Exploratory Data Analysis (EDA) on textual data.\n",
    "\n",
    "- To make a word cloud of relevant texts. \n",
    "\n",
    "- To find <u>number of published articles on different phases of clinical trials</u>.\n",
    "\n",
    "- To find recent and common trends in cancer research."
   ]
  },
  {
   "cell_type": "code",
   "execution_count": 3,
   "metadata": {},
   "outputs": [],
   "source": [
    "# import libraries\n",
    "import numpy as np\n",
    "import pandas as pd\n",
    "import matplotlib.pyplot as plt\n",
    "import warnings\n",
    "\n",
    "%matplotlib inline\n",
    "warnings.filterwarnings('ignore')"
   ]
  },
  {
   "cell_type": "code",
   "execution_count": 4,
   "metadata": {},
   "outputs": [
    {
     "data": {
      "text/html": [
       "<div>\n",
       "<style scoped>\n",
       "    .dataframe tbody tr th:only-of-type {\n",
       "        vertical-align: middle;\n",
       "    }\n",
       "\n",
       "    .dataframe tbody tr th {\n",
       "        vertical-align: top;\n",
       "    }\n",
       "\n",
       "    .dataframe thead th {\n",
       "        text-align: right;\n",
       "    }\n",
       "</style>\n",
       "<table border=\"1\" class=\"dataframe\">\n",
       "  <thead>\n",
       "    <tr style=\"text-align: right;\">\n",
       "      <th></th>\n",
       "      <th>PMID</th>\n",
       "      <th>Title</th>\n",
       "      <th>Authors</th>\n",
       "      <th>Citation</th>\n",
       "      <th>First Author</th>\n",
       "      <th>Journal/Book</th>\n",
       "      <th>Publication Year</th>\n",
       "      <th>Create Date</th>\n",
       "      <th>PMCID</th>\n",
       "      <th>NIHMS ID</th>\n",
       "      <th>DOI</th>\n",
       "    </tr>\n",
       "  </thead>\n",
       "  <tbody>\n",
       "    <tr>\n",
       "      <th>0</th>\n",
       "      <td>34910859</td>\n",
       "      <td>Efficacy and Safety of NVX-CoV2373 in Adults i...</td>\n",
       "      <td>Dunkle LM, Kotloff KL, Gay CL, Áñez G, Adelgla...</td>\n",
       "      <td>N Engl J Med. 2022 Feb 10;386(6):531-543. doi:...</td>\n",
       "      <td>Dunkle LM</td>\n",
       "      <td>N Engl J Med</td>\n",
       "      <td>2022</td>\n",
       "      <td>2021/12/15</td>\n",
       "      <td>PMC8693692</td>\n",
       "      <td>NaN</td>\n",
       "      <td>10.1056/NEJMoa2116185</td>\n",
       "    </tr>\n",
       "    <tr>\n",
       "      <th>1</th>\n",
       "      <td>34495421</td>\n",
       "      <td>Phase I study of weekly nab-paclitaxel plus ca...</td>\n",
       "      <td>Omori S, Harada H, Mori K, Hisamatsu Y, Tsubog...</td>\n",
       "      <td>Invest New Drugs. 2022 Feb;40(1):106-114. doi:...</td>\n",
       "      <td>Omori S</td>\n",
       "      <td>Invest New Drugs</td>\n",
       "      <td>2022</td>\n",
       "      <td>2021/09/08</td>\n",
       "      <td>NaN</td>\n",
       "      <td>NaN</td>\n",
       "      <td>10.1007/s10637-021-01155-w</td>\n",
       "    </tr>\n",
       "    <tr>\n",
       "      <th>2</th>\n",
       "      <td>35127902</td>\n",
       "      <td>Role of carbon nanotracers in lymph node disse...</td>\n",
       "      <td>Zhao K, Shan BQ, Gao YP, Xu JY.</td>\n",
       "      <td>World J Clin Cases. 2022 Jan 21;10(3):870-881....</td>\n",
       "      <td>Zhao K</td>\n",
       "      <td>World J Clin Cases</td>\n",
       "      <td>2022</td>\n",
       "      <td>2022/02/07</td>\n",
       "      <td>PMC8790434</td>\n",
       "      <td>NaN</td>\n",
       "      <td>10.12998/wjcc.v10.i3.870</td>\n",
       "    </tr>\n",
       "    <tr>\n",
       "      <th>3</th>\n",
       "      <td>34907220</td>\n",
       "      <td>Application of green synthesized WO(3)-poly gl...</td>\n",
       "      <td>Nasrollahpour H, Naseri A, Rashidi MR, Khalilz...</td>\n",
       "      <td>Sci Rep. 2021 Dec 14;11(1):23994. doi: 10.1038...</td>\n",
       "      <td>Nasrollahpour H</td>\n",
       "      <td>Sci Rep</td>\n",
       "      <td>2021</td>\n",
       "      <td>2021/12/15</td>\n",
       "      <td>PMC8671486</td>\n",
       "      <td>NaN</td>\n",
       "      <td>10.1038/s41598-021-03209-8</td>\n",
       "    </tr>\n",
       "    <tr>\n",
       "      <th>4</th>\n",
       "      <td>34923912</td>\n",
       "      <td>The transcatheter arterial chemoembolization c...</td>\n",
       "      <td>Su D.</td>\n",
       "      <td>Bioengineered. 2021 Dec;12(2):11124-11135. doi...</td>\n",
       "      <td>Su D</td>\n",
       "      <td>Bioengineered</td>\n",
       "      <td>2021</td>\n",
       "      <td>2021/12/20</td>\n",
       "      <td>PMC8810100</td>\n",
       "      <td>NaN</td>\n",
       "      <td>10.1080/21655979.2021.2001239</td>\n",
       "    </tr>\n",
       "  </tbody>\n",
       "</table>\n",
       "</div>"
      ],
      "text/plain": [
       "       PMID                                              Title  \\\n",
       "0  34910859  Efficacy and Safety of NVX-CoV2373 in Adults i...   \n",
       "1  34495421  Phase I study of weekly nab-paclitaxel plus ca...   \n",
       "2  35127902  Role of carbon nanotracers in lymph node disse...   \n",
       "3  34907220  Application of green synthesized WO(3)-poly gl...   \n",
       "4  34923912  The transcatheter arterial chemoembolization c...   \n",
       "\n",
       "                                             Authors  \\\n",
       "0  Dunkle LM, Kotloff KL, Gay CL, Áñez G, Adelgla...   \n",
       "1  Omori S, Harada H, Mori K, Hisamatsu Y, Tsubog...   \n",
       "2                    Zhao K, Shan BQ, Gao YP, Xu JY.   \n",
       "3  Nasrollahpour H, Naseri A, Rashidi MR, Khalilz...   \n",
       "4                                              Su D.   \n",
       "\n",
       "                                            Citation     First Author  \\\n",
       "0  N Engl J Med. 2022 Feb 10;386(6):531-543. doi:...        Dunkle LM   \n",
       "1  Invest New Drugs. 2022 Feb;40(1):106-114. doi:...          Omori S   \n",
       "2  World J Clin Cases. 2022 Jan 21;10(3):870-881....           Zhao K   \n",
       "3  Sci Rep. 2021 Dec 14;11(1):23994. doi: 10.1038...  Nasrollahpour H   \n",
       "4  Bioengineered. 2021 Dec;12(2):11124-11135. doi...             Su D   \n",
       "\n",
       "         Journal/Book  Publication Year Create Date       PMCID NIHMS ID  \\\n",
       "0        N Engl J Med              2022  2021/12/15  PMC8693692      NaN   \n",
       "1    Invest New Drugs              2022  2021/09/08         NaN      NaN   \n",
       "2  World J Clin Cases              2022  2022/02/07  PMC8790434      NaN   \n",
       "3             Sci Rep              2021  2021/12/15  PMC8671486      NaN   \n",
       "4       Bioengineered              2021  2021/12/20  PMC8810100      NaN   \n",
       "\n",
       "                             DOI  \n",
       "0          10.1056/NEJMoa2116185  \n",
       "1     10.1007/s10637-021-01155-w  \n",
       "2       10.12998/wjcc.v10.i3.870  \n",
       "3     10.1038/s41598-021-03209-8  \n",
       "4  10.1080/21655979.2021.2001239  "
      ]
     },
     "execution_count": 4,
     "metadata": {},
     "output_type": "execute_result"
    }
   ],
   "source": [
    "# import dataset\n",
    "df = pd.read_csv('csv-cancernano-set.csv')\n",
    "df.head()"
   ]
  },
  {
   "cell_type": "markdown",
   "metadata": {},
   "source": [
    "### Basic Analysis"
   ]
  },
  {
   "cell_type": "code",
   "execution_count": 5,
   "metadata": {},
   "outputs": [
    {
     "data": {
      "text/plain": [
       "(399, 11)"
      ]
     },
     "execution_count": 5,
     "metadata": {},
     "output_type": "execute_result"
    }
   ],
   "source": [
    "# shape \n",
    "df.shape"
   ]
  },
  {
   "cell_type": "code",
   "execution_count": 6,
   "metadata": {},
   "outputs": [
    {
     "name": "stdout",
     "output_type": "stream",
     "text": [
      "<class 'pandas.core.frame.DataFrame'>\n",
      "RangeIndex: 399 entries, 0 to 398\n",
      "Data columns (total 11 columns):\n",
      " #   Column            Non-Null Count  Dtype \n",
      "---  ------            --------------  ----- \n",
      " 0   PMID              399 non-null    int64 \n",
      " 1   Title             399 non-null    object\n",
      " 2   Authors           398 non-null    object\n",
      " 3   Citation          399 non-null    object\n",
      " 4   First Author      398 non-null    object\n",
      " 5   Journal/Book      399 non-null    object\n",
      " 6   Publication Year  399 non-null    int64 \n",
      " 7   Create Date       399 non-null    object\n",
      " 8   PMCID             129 non-null    object\n",
      " 9   NIHMS ID          35 non-null     object\n",
      " 10  DOI               378 non-null    object\n",
      "dtypes: int64(2), object(9)\n",
      "memory usage: 34.4+ KB\n"
     ]
    }
   ],
   "source": [
    "df.info()"
   ]
  },
  {
   "cell_type": "code",
   "execution_count": 7,
   "metadata": {},
   "outputs": [
    {
     "data": {
      "text/plain": [
       "32"
      ]
     },
     "execution_count": 7,
     "metadata": {},
     "output_type": "execute_result"
    }
   ],
   "source": [
    "# publication year range\n",
    "df['Publication Year'].nunique()"
   ]
  },
  {
   "cell_type": "code",
   "execution_count": 8,
   "metadata": {},
   "outputs": [
    {
     "data": {
      "text/plain": [
       "array([2022, 2021, 2020, 2019, 2018, 2017, 2016, 2015, 2014, 2013, 2012,\n",
       "       2011, 2010, 2009, 2008, 2007, 2006, 2005, 2004, 2003, 2002, 2001,\n",
       "       2000, 1999, 1998, 1997, 1996, 1995, 1994, 1993, 1992, 1991])"
      ]
     },
     "execution_count": 8,
     "metadata": {},
     "output_type": "execute_result"
    }
   ],
   "source": [
    "df['Publication Year'].unique()"
   ]
  },
  {
   "cell_type": "code",
   "execution_count": 9,
   "metadata": {},
   "outputs": [
    {
     "data": {
      "text/html": [
       "<div>\n",
       "<style scoped>\n",
       "    .dataframe tbody tr th:only-of-type {\n",
       "        vertical-align: middle;\n",
       "    }\n",
       "\n",
       "    .dataframe tbody tr th {\n",
       "        vertical-align: top;\n",
       "    }\n",
       "\n",
       "    .dataframe thead th {\n",
       "        text-align: right;\n",
       "    }\n",
       "</style>\n",
       "<table border=\"1\" class=\"dataframe\">\n",
       "  <thead>\n",
       "    <tr style=\"text-align: right;\">\n",
       "      <th></th>\n",
       "      <th>index</th>\n",
       "      <th>count</th>\n",
       "    </tr>\n",
       "  </thead>\n",
       "  <tbody>\n",
       "    <tr>\n",
       "      <th>0</th>\n",
       "      <td>2021</td>\n",
       "      <td>32</td>\n",
       "    </tr>\n",
       "    <tr>\n",
       "      <th>1</th>\n",
       "      <td>2020</td>\n",
       "      <td>30</td>\n",
       "    </tr>\n",
       "    <tr>\n",
       "      <th>2</th>\n",
       "      <td>2017</td>\n",
       "      <td>27</td>\n",
       "    </tr>\n",
       "    <tr>\n",
       "      <th>3</th>\n",
       "      <td>2016</td>\n",
       "      <td>27</td>\n",
       "    </tr>\n",
       "    <tr>\n",
       "      <th>4</th>\n",
       "      <td>2019</td>\n",
       "      <td>26</td>\n",
       "    </tr>\n",
       "  </tbody>\n",
       "</table>\n",
       "</div>"
      ],
      "text/plain": [
       "   index  count\n",
       "0   2021     32\n",
       "1   2020     30\n",
       "2   2017     27\n",
       "3   2016     27\n",
       "4   2019     26"
      ]
     },
     "execution_count": 9,
     "metadata": {},
     "output_type": "execute_result"
    }
   ],
   "source": [
    "yearwise = df['Publication Year'].value_counts().reset_index(name='count')\n",
    "yearwise.head()"
   ]
  },
  {
   "cell_type": "code",
   "execution_count": 10,
   "metadata": {},
   "outputs": [
    {
     "data": {
      "application/vnd.plotly.v1+json": {
       "config": {
        "plotlyServerURL": "https://plot.ly"
       },
       "data": [
        {
         "alignmentgroup": "True",
         "hovertemplate": "count=%{marker.color}<br>index=%{y}<extra></extra>",
         "legendgroup": "",
         "marker": {
          "color": [
           32,
           30,
           27,
           27,
           26,
           26,
           23,
           22,
           17,
           15,
           14,
           12,
           12,
           11,
           11,
           9,
           8,
           8,
           8,
           8,
           7,
           7,
           7,
           7,
           6,
           5,
           4,
           3,
           3,
           2,
           1,
           1
          ],
          "coloraxis": "coloraxis",
          "pattern": {
           "shape": ""
          }
         },
         "name": "",
         "offsetgroup": "",
         "orientation": "h",
         "showlegend": false,
         "textposition": "outside",
         "texttemplate": "%{x}",
         "type": "bar",
         "x": [
          32,
          30,
          27,
          27,
          26,
          26,
          23,
          22,
          17,
          15,
          14,
          12,
          12,
          11,
          11,
          9,
          8,
          8,
          8,
          8,
          7,
          7,
          7,
          7,
          6,
          5,
          4,
          3,
          3,
          2,
          1,
          1
         ],
         "xaxis": "x",
         "y": [
          2021,
          2020,
          2017,
          2016,
          2019,
          2013,
          2018,
          2015,
          2014,
          2012,
          2009,
          2011,
          2010,
          2008,
          2006,
          2005,
          2007,
          2003,
          1994,
          1997,
          1995,
          2002,
          2000,
          1998,
          2004,
          1996,
          1999,
          2022,
          2001,
          1993,
          1992,
          1991
         ],
         "yaxis": "y"
        }
       ],
       "layout": {
        "bargap": 0.2,
        "barmode": "relative",
        "coloraxis": {
         "colorbar": {
          "title": {
           "text": "count"
          }
         },
         "colorscale": [
          [
           0,
           "#0d0887"
          ],
          [
           0.1111111111111111,
           "#46039f"
          ],
          [
           0.2222222222222222,
           "#7201a8"
          ],
          [
           0.3333333333333333,
           "#9c179e"
          ],
          [
           0.4444444444444444,
           "#bd3786"
          ],
          [
           0.5555555555555556,
           "#d8576b"
          ],
          [
           0.6666666666666666,
           "#ed7953"
          ],
          [
           0.7777777777777778,
           "#fb9f3a"
          ],
          [
           0.8888888888888888,
           "#fdca26"
          ],
          [
           1,
           "#f0f921"
          ]
         ]
        },
        "height": 800,
        "legend": {
         "tracegroupgap": 0
        },
        "margin": {
         "t": 60
        },
        "showlegend": false,
        "template": {
         "data": {
          "bar": [
           {
            "error_x": {
             "color": "#2a3f5f"
            },
            "error_y": {
             "color": "#2a3f5f"
            },
            "marker": {
             "line": {
              "color": "#E5ECF6",
              "width": 0.5
             },
             "pattern": {
              "fillmode": "overlay",
              "size": 10,
              "solidity": 0.2
             }
            },
            "type": "bar"
           }
          ],
          "barpolar": [
           {
            "marker": {
             "line": {
              "color": "#E5ECF6",
              "width": 0.5
             },
             "pattern": {
              "fillmode": "overlay",
              "size": 10,
              "solidity": 0.2
             }
            },
            "type": "barpolar"
           }
          ],
          "carpet": [
           {
            "aaxis": {
             "endlinecolor": "#2a3f5f",
             "gridcolor": "white",
             "linecolor": "white",
             "minorgridcolor": "white",
             "startlinecolor": "#2a3f5f"
            },
            "baxis": {
             "endlinecolor": "#2a3f5f",
             "gridcolor": "white",
             "linecolor": "white",
             "minorgridcolor": "white",
             "startlinecolor": "#2a3f5f"
            },
            "type": "carpet"
           }
          ],
          "choropleth": [
           {
            "colorbar": {
             "outlinewidth": 0,
             "ticks": ""
            },
            "type": "choropleth"
           }
          ],
          "contour": [
           {
            "colorbar": {
             "outlinewidth": 0,
             "ticks": ""
            },
            "colorscale": [
             [
              0,
              "#0d0887"
             ],
             [
              0.1111111111111111,
              "#46039f"
             ],
             [
              0.2222222222222222,
              "#7201a8"
             ],
             [
              0.3333333333333333,
              "#9c179e"
             ],
             [
              0.4444444444444444,
              "#bd3786"
             ],
             [
              0.5555555555555556,
              "#d8576b"
             ],
             [
              0.6666666666666666,
              "#ed7953"
             ],
             [
              0.7777777777777778,
              "#fb9f3a"
             ],
             [
              0.8888888888888888,
              "#fdca26"
             ],
             [
              1,
              "#f0f921"
             ]
            ],
            "type": "contour"
           }
          ],
          "contourcarpet": [
           {
            "colorbar": {
             "outlinewidth": 0,
             "ticks": ""
            },
            "type": "contourcarpet"
           }
          ],
          "heatmap": [
           {
            "colorbar": {
             "outlinewidth": 0,
             "ticks": ""
            },
            "colorscale": [
             [
              0,
              "#0d0887"
             ],
             [
              0.1111111111111111,
              "#46039f"
             ],
             [
              0.2222222222222222,
              "#7201a8"
             ],
             [
              0.3333333333333333,
              "#9c179e"
             ],
             [
              0.4444444444444444,
              "#bd3786"
             ],
             [
              0.5555555555555556,
              "#d8576b"
             ],
             [
              0.6666666666666666,
              "#ed7953"
             ],
             [
              0.7777777777777778,
              "#fb9f3a"
             ],
             [
              0.8888888888888888,
              "#fdca26"
             ],
             [
              1,
              "#f0f921"
             ]
            ],
            "type": "heatmap"
           }
          ],
          "heatmapgl": [
           {
            "colorbar": {
             "outlinewidth": 0,
             "ticks": ""
            },
            "colorscale": [
             [
              0,
              "#0d0887"
             ],
             [
              0.1111111111111111,
              "#46039f"
             ],
             [
              0.2222222222222222,
              "#7201a8"
             ],
             [
              0.3333333333333333,
              "#9c179e"
             ],
             [
              0.4444444444444444,
              "#bd3786"
             ],
             [
              0.5555555555555556,
              "#d8576b"
             ],
             [
              0.6666666666666666,
              "#ed7953"
             ],
             [
              0.7777777777777778,
              "#fb9f3a"
             ],
             [
              0.8888888888888888,
              "#fdca26"
             ],
             [
              1,
              "#f0f921"
             ]
            ],
            "type": "heatmapgl"
           }
          ],
          "histogram": [
           {
            "marker": {
             "pattern": {
              "fillmode": "overlay",
              "size": 10,
              "solidity": 0.2
             }
            },
            "type": "histogram"
           }
          ],
          "histogram2d": [
           {
            "colorbar": {
             "outlinewidth": 0,
             "ticks": ""
            },
            "colorscale": [
             [
              0,
              "#0d0887"
             ],
             [
              0.1111111111111111,
              "#46039f"
             ],
             [
              0.2222222222222222,
              "#7201a8"
             ],
             [
              0.3333333333333333,
              "#9c179e"
             ],
             [
              0.4444444444444444,
              "#bd3786"
             ],
             [
              0.5555555555555556,
              "#d8576b"
             ],
             [
              0.6666666666666666,
              "#ed7953"
             ],
             [
              0.7777777777777778,
              "#fb9f3a"
             ],
             [
              0.8888888888888888,
              "#fdca26"
             ],
             [
              1,
              "#f0f921"
             ]
            ],
            "type": "histogram2d"
           }
          ],
          "histogram2dcontour": [
           {
            "colorbar": {
             "outlinewidth": 0,
             "ticks": ""
            },
            "colorscale": [
             [
              0,
              "#0d0887"
             ],
             [
              0.1111111111111111,
              "#46039f"
             ],
             [
              0.2222222222222222,
              "#7201a8"
             ],
             [
              0.3333333333333333,
              "#9c179e"
             ],
             [
              0.4444444444444444,
              "#bd3786"
             ],
             [
              0.5555555555555556,
              "#d8576b"
             ],
             [
              0.6666666666666666,
              "#ed7953"
             ],
             [
              0.7777777777777778,
              "#fb9f3a"
             ],
             [
              0.8888888888888888,
              "#fdca26"
             ],
             [
              1,
              "#f0f921"
             ]
            ],
            "type": "histogram2dcontour"
           }
          ],
          "mesh3d": [
           {
            "colorbar": {
             "outlinewidth": 0,
             "ticks": ""
            },
            "type": "mesh3d"
           }
          ],
          "parcoords": [
           {
            "line": {
             "colorbar": {
              "outlinewidth": 0,
              "ticks": ""
             }
            },
            "type": "parcoords"
           }
          ],
          "pie": [
           {
            "automargin": true,
            "type": "pie"
           }
          ],
          "scatter": [
           {
            "marker": {
             "colorbar": {
              "outlinewidth": 0,
              "ticks": ""
             }
            },
            "type": "scatter"
           }
          ],
          "scatter3d": [
           {
            "line": {
             "colorbar": {
              "outlinewidth": 0,
              "ticks": ""
             }
            },
            "marker": {
             "colorbar": {
              "outlinewidth": 0,
              "ticks": ""
             }
            },
            "type": "scatter3d"
           }
          ],
          "scattercarpet": [
           {
            "marker": {
             "colorbar": {
              "outlinewidth": 0,
              "ticks": ""
             }
            },
            "type": "scattercarpet"
           }
          ],
          "scattergeo": [
           {
            "marker": {
             "colorbar": {
              "outlinewidth": 0,
              "ticks": ""
             }
            },
            "type": "scattergeo"
           }
          ],
          "scattergl": [
           {
            "marker": {
             "colorbar": {
              "outlinewidth": 0,
              "ticks": ""
             }
            },
            "type": "scattergl"
           }
          ],
          "scattermapbox": [
           {
            "marker": {
             "colorbar": {
              "outlinewidth": 0,
              "ticks": ""
             }
            },
            "type": "scattermapbox"
           }
          ],
          "scatterpolar": [
           {
            "marker": {
             "colorbar": {
              "outlinewidth": 0,
              "ticks": ""
             }
            },
            "type": "scatterpolar"
           }
          ],
          "scatterpolargl": [
           {
            "marker": {
             "colorbar": {
              "outlinewidth": 0,
              "ticks": ""
             }
            },
            "type": "scatterpolargl"
           }
          ],
          "scatterternary": [
           {
            "marker": {
             "colorbar": {
              "outlinewidth": 0,
              "ticks": ""
             }
            },
            "type": "scatterternary"
           }
          ],
          "surface": [
           {
            "colorbar": {
             "outlinewidth": 0,
             "ticks": ""
            },
            "colorscale": [
             [
              0,
              "#0d0887"
             ],
             [
              0.1111111111111111,
              "#46039f"
             ],
             [
              0.2222222222222222,
              "#7201a8"
             ],
             [
              0.3333333333333333,
              "#9c179e"
             ],
             [
              0.4444444444444444,
              "#bd3786"
             ],
             [
              0.5555555555555556,
              "#d8576b"
             ],
             [
              0.6666666666666666,
              "#ed7953"
             ],
             [
              0.7777777777777778,
              "#fb9f3a"
             ],
             [
              0.8888888888888888,
              "#fdca26"
             ],
             [
              1,
              "#f0f921"
             ]
            ],
            "type": "surface"
           }
          ],
          "table": [
           {
            "cells": {
             "fill": {
              "color": "#EBF0F8"
             },
             "line": {
              "color": "white"
             }
            },
            "header": {
             "fill": {
              "color": "#C8D4E3"
             },
             "line": {
              "color": "white"
             }
            },
            "type": "table"
           }
          ]
         },
         "layout": {
          "annotationdefaults": {
           "arrowcolor": "#2a3f5f",
           "arrowhead": 0,
           "arrowwidth": 1
          },
          "autotypenumbers": "strict",
          "coloraxis": {
           "colorbar": {
            "outlinewidth": 0,
            "ticks": ""
           }
          },
          "colorscale": {
           "diverging": [
            [
             0,
             "#8e0152"
            ],
            [
             0.1,
             "#c51b7d"
            ],
            [
             0.2,
             "#de77ae"
            ],
            [
             0.3,
             "#f1b6da"
            ],
            [
             0.4,
             "#fde0ef"
            ],
            [
             0.5,
             "#f7f7f7"
            ],
            [
             0.6,
             "#e6f5d0"
            ],
            [
             0.7,
             "#b8e186"
            ],
            [
             0.8,
             "#7fbc41"
            ],
            [
             0.9,
             "#4d9221"
            ],
            [
             1,
             "#276419"
            ]
           ],
           "sequential": [
            [
             0,
             "#0d0887"
            ],
            [
             0.1111111111111111,
             "#46039f"
            ],
            [
             0.2222222222222222,
             "#7201a8"
            ],
            [
             0.3333333333333333,
             "#9c179e"
            ],
            [
             0.4444444444444444,
             "#bd3786"
            ],
            [
             0.5555555555555556,
             "#d8576b"
            ],
            [
             0.6666666666666666,
             "#ed7953"
            ],
            [
             0.7777777777777778,
             "#fb9f3a"
            ],
            [
             0.8888888888888888,
             "#fdca26"
            ],
            [
             1,
             "#f0f921"
            ]
           ],
           "sequentialminus": [
            [
             0,
             "#0d0887"
            ],
            [
             0.1111111111111111,
             "#46039f"
            ],
            [
             0.2222222222222222,
             "#7201a8"
            ],
            [
             0.3333333333333333,
             "#9c179e"
            ],
            [
             0.4444444444444444,
             "#bd3786"
            ],
            [
             0.5555555555555556,
             "#d8576b"
            ],
            [
             0.6666666666666666,
             "#ed7953"
            ],
            [
             0.7777777777777778,
             "#fb9f3a"
            ],
            [
             0.8888888888888888,
             "#fdca26"
            ],
            [
             1,
             "#f0f921"
            ]
           ]
          },
          "colorway": [
           "#636efa",
           "#EF553B",
           "#00cc96",
           "#ab63fa",
           "#FFA15A",
           "#19d3f3",
           "#FF6692",
           "#B6E880",
           "#FF97FF",
           "#FECB52"
          ],
          "font": {
           "color": "#2a3f5f"
          },
          "geo": {
           "bgcolor": "white",
           "lakecolor": "white",
           "landcolor": "#E5ECF6",
           "showlakes": true,
           "showland": true,
           "subunitcolor": "white"
          },
          "hoverlabel": {
           "align": "left"
          },
          "hovermode": "closest",
          "mapbox": {
           "style": "light"
          },
          "paper_bgcolor": "white",
          "plot_bgcolor": "#E5ECF6",
          "polar": {
           "angularaxis": {
            "gridcolor": "white",
            "linecolor": "white",
            "ticks": ""
           },
           "bgcolor": "#E5ECF6",
           "radialaxis": {
            "gridcolor": "white",
            "linecolor": "white",
            "ticks": ""
           }
          },
          "scene": {
           "xaxis": {
            "backgroundcolor": "#E5ECF6",
            "gridcolor": "white",
            "gridwidth": 2,
            "linecolor": "white",
            "showbackground": true,
            "ticks": "",
            "zerolinecolor": "white"
           },
           "yaxis": {
            "backgroundcolor": "#E5ECF6",
            "gridcolor": "white",
            "gridwidth": 2,
            "linecolor": "white",
            "showbackground": true,
            "ticks": "",
            "zerolinecolor": "white"
           },
           "zaxis": {
            "backgroundcolor": "#E5ECF6",
            "gridcolor": "white",
            "gridwidth": 2,
            "linecolor": "white",
            "showbackground": true,
            "ticks": "",
            "zerolinecolor": "white"
           }
          },
          "shapedefaults": {
           "line": {
            "color": "#2a3f5f"
           }
          },
          "ternary": {
           "aaxis": {
            "gridcolor": "white",
            "linecolor": "white",
            "ticks": ""
           },
           "baxis": {
            "gridcolor": "white",
            "linecolor": "white",
            "ticks": ""
           },
           "bgcolor": "#E5ECF6",
           "caxis": {
            "gridcolor": "white",
            "linecolor": "white",
            "ticks": ""
           }
          },
          "title": {
           "x": 0.05
          },
          "xaxis": {
           "automargin": true,
           "gridcolor": "white",
           "linecolor": "white",
           "ticks": "",
           "title": {
            "standoff": 15
           },
           "zerolinecolor": "white",
           "zerolinewidth": 2
          },
          "yaxis": {
           "automargin": true,
           "gridcolor": "white",
           "linecolor": "white",
           "ticks": "",
           "title": {
            "standoff": 15
           },
           "zerolinecolor": "white",
           "zerolinewidth": 2
          }
         }
        },
        "title": {
         "text": "Year-wise Number of Publications on Cancer"
        },
        "width": 1000,
        "xaxis": {
         "anchor": "y",
         "domain": [
          0,
          1
         ],
         "title": {
          "text": "No. of Publications"
         }
        },
        "yaxis": {
         "anchor": "x",
         "domain": [
          0,
          1
         ],
         "title": {
          "text": "year"
         }
        }
       }
      }
     },
     "metadata": {},
     "output_type": "display_data"
    }
   ],
   "source": [
    "import plotly.express as px\n",
    "\n",
    "fig = px.bar(\n",
    "    yearwise,\n",
    "    y = 'index',\n",
    "    x = 'count',\n",
    "    orientation='h',\n",
    "    color = 'count',\n",
    "    text_auto=True\n",
    ")\n",
    "\n",
    "fig.update_traces(textposition='outside')\n",
    "fig.update_layout(\n",
    "    height=800,\n",
    "    width=1000,\n",
    "    title=dict(\n",
    "        text='Year-wise Number of Publications on Cancer'\n",
    "    ), \n",
    "    yaxis={\n",
    "        'title':'year'\n",
    "    },\n",
    "    xaxis={\n",
    "        'title':'No. of Publications'\n",
    "    },\n",
    "    bargap=0.2,\n",
    "    showlegend=False\n",
    ")\n",
    "\n",
    "fig.show()"
   ]
  },
  {
   "cell_type": "markdown",
   "metadata": {},
   "source": [
    "- The dataset contains 32 years of data from 1991 to January 2022.\n",
    "\n",
    "- Highest number of papers are published on 2021."
   ]
  },
  {
   "cell_type": "code",
   "execution_count": 11,
   "metadata": {},
   "outputs": [
    {
     "data": {
      "text/plain": [
       "Index(['PMID', 'Title', 'Authors', 'Citation', 'First Author', 'Journal/Book',\n",
       "       'Publication Year', 'Create Date', 'PMCID', 'NIHMS ID', 'DOI'],\n",
       "      dtype='object')"
      ]
     },
     "execution_count": 11,
     "metadata": {},
     "output_type": "execute_result"
    }
   ],
   "source": [
    "df.columns"
   ]
  },
  {
   "cell_type": "code",
   "execution_count": 12,
   "metadata": {},
   "outputs": [],
   "source": [
    "df['Create Date'] = pd.to_datetime(df['Create Date'])"
   ]
  },
  {
   "cell_type": "code",
   "execution_count": 13,
   "metadata": {},
   "outputs": [],
   "source": [
    "# Month wise publication\n",
    "import datetime as dt\n",
    "\n",
    "df['Year'] = df['Create Date'].dt.year\n",
    "df['Month'] = df['Create Date'].dt.month"
   ]
  },
  {
   "cell_type": "code",
   "execution_count": 14,
   "metadata": {},
   "outputs": [
    {
     "data": {
      "text/html": [
       "<div>\n",
       "<style scoped>\n",
       "    .dataframe tbody tr th:only-of-type {\n",
       "        vertical-align: middle;\n",
       "    }\n",
       "\n",
       "    .dataframe tbody tr th {\n",
       "        vertical-align: top;\n",
       "    }\n",
       "\n",
       "    .dataframe thead th {\n",
       "        text-align: right;\n",
       "    }\n",
       "</style>\n",
       "<table border=\"1\" class=\"dataframe\">\n",
       "  <thead>\n",
       "    <tr style=\"text-align: right;\">\n",
       "      <th></th>\n",
       "      <th>PMID</th>\n",
       "      <th>Title</th>\n",
       "      <th>Authors</th>\n",
       "      <th>Citation</th>\n",
       "      <th>First Author</th>\n",
       "      <th>Journal/Book</th>\n",
       "      <th>Publication Year</th>\n",
       "      <th>Create Date</th>\n",
       "      <th>PMCID</th>\n",
       "      <th>NIHMS ID</th>\n",
       "      <th>DOI</th>\n",
       "      <th>Year</th>\n",
       "      <th>Month</th>\n",
       "    </tr>\n",
       "  </thead>\n",
       "  <tbody>\n",
       "    <tr>\n",
       "      <th>0</th>\n",
       "      <td>34910859</td>\n",
       "      <td>Efficacy and Safety of NVX-CoV2373 in Adults i...</td>\n",
       "      <td>Dunkle LM, Kotloff KL, Gay CL, Áñez G, Adelgla...</td>\n",
       "      <td>N Engl J Med. 2022 Feb 10;386(6):531-543. doi:...</td>\n",
       "      <td>Dunkle LM</td>\n",
       "      <td>N Engl J Med</td>\n",
       "      <td>2022</td>\n",
       "      <td>2021-12-15</td>\n",
       "      <td>PMC8693692</td>\n",
       "      <td>NaN</td>\n",
       "      <td>10.1056/NEJMoa2116185</td>\n",
       "      <td>2021</td>\n",
       "      <td>12</td>\n",
       "    </tr>\n",
       "    <tr>\n",
       "      <th>1</th>\n",
       "      <td>34495421</td>\n",
       "      <td>Phase I study of weekly nab-paclitaxel plus ca...</td>\n",
       "      <td>Omori S, Harada H, Mori K, Hisamatsu Y, Tsubog...</td>\n",
       "      <td>Invest New Drugs. 2022 Feb;40(1):106-114. doi:...</td>\n",
       "      <td>Omori S</td>\n",
       "      <td>Invest New Drugs</td>\n",
       "      <td>2022</td>\n",
       "      <td>2021-09-08</td>\n",
       "      <td>NaN</td>\n",
       "      <td>NaN</td>\n",
       "      <td>10.1007/s10637-021-01155-w</td>\n",
       "      <td>2021</td>\n",
       "      <td>9</td>\n",
       "    </tr>\n",
       "    <tr>\n",
       "      <th>2</th>\n",
       "      <td>35127902</td>\n",
       "      <td>Role of carbon nanotracers in lymph node disse...</td>\n",
       "      <td>Zhao K, Shan BQ, Gao YP, Xu JY.</td>\n",
       "      <td>World J Clin Cases. 2022 Jan 21;10(3):870-881....</td>\n",
       "      <td>Zhao K</td>\n",
       "      <td>World J Clin Cases</td>\n",
       "      <td>2022</td>\n",
       "      <td>2022-02-07</td>\n",
       "      <td>PMC8790434</td>\n",
       "      <td>NaN</td>\n",
       "      <td>10.12998/wjcc.v10.i3.870</td>\n",
       "      <td>2022</td>\n",
       "      <td>2</td>\n",
       "    </tr>\n",
       "    <tr>\n",
       "      <th>3</th>\n",
       "      <td>34907220</td>\n",
       "      <td>Application of green synthesized WO(3)-poly gl...</td>\n",
       "      <td>Nasrollahpour H, Naseri A, Rashidi MR, Khalilz...</td>\n",
       "      <td>Sci Rep. 2021 Dec 14;11(1):23994. doi: 10.1038...</td>\n",
       "      <td>Nasrollahpour H</td>\n",
       "      <td>Sci Rep</td>\n",
       "      <td>2021</td>\n",
       "      <td>2021-12-15</td>\n",
       "      <td>PMC8671486</td>\n",
       "      <td>NaN</td>\n",
       "      <td>10.1038/s41598-021-03209-8</td>\n",
       "      <td>2021</td>\n",
       "      <td>12</td>\n",
       "    </tr>\n",
       "    <tr>\n",
       "      <th>4</th>\n",
       "      <td>34923912</td>\n",
       "      <td>The transcatheter arterial chemoembolization c...</td>\n",
       "      <td>Su D.</td>\n",
       "      <td>Bioengineered. 2021 Dec;12(2):11124-11135. doi...</td>\n",
       "      <td>Su D</td>\n",
       "      <td>Bioengineered</td>\n",
       "      <td>2021</td>\n",
       "      <td>2021-12-20</td>\n",
       "      <td>PMC8810100</td>\n",
       "      <td>NaN</td>\n",
       "      <td>10.1080/21655979.2021.2001239</td>\n",
       "      <td>2021</td>\n",
       "      <td>12</td>\n",
       "    </tr>\n",
       "  </tbody>\n",
       "</table>\n",
       "</div>"
      ],
      "text/plain": [
       "       PMID                                              Title  \\\n",
       "0  34910859  Efficacy and Safety of NVX-CoV2373 in Adults i...   \n",
       "1  34495421  Phase I study of weekly nab-paclitaxel plus ca...   \n",
       "2  35127902  Role of carbon nanotracers in lymph node disse...   \n",
       "3  34907220  Application of green synthesized WO(3)-poly gl...   \n",
       "4  34923912  The transcatheter arterial chemoembolization c...   \n",
       "\n",
       "                                             Authors  \\\n",
       "0  Dunkle LM, Kotloff KL, Gay CL, Áñez G, Adelgla...   \n",
       "1  Omori S, Harada H, Mori K, Hisamatsu Y, Tsubog...   \n",
       "2                    Zhao K, Shan BQ, Gao YP, Xu JY.   \n",
       "3  Nasrollahpour H, Naseri A, Rashidi MR, Khalilz...   \n",
       "4                                              Su D.   \n",
       "\n",
       "                                            Citation     First Author  \\\n",
       "0  N Engl J Med. 2022 Feb 10;386(6):531-543. doi:...        Dunkle LM   \n",
       "1  Invest New Drugs. 2022 Feb;40(1):106-114. doi:...          Omori S   \n",
       "2  World J Clin Cases. 2022 Jan 21;10(3):870-881....           Zhao K   \n",
       "3  Sci Rep. 2021 Dec 14;11(1):23994. doi: 10.1038...  Nasrollahpour H   \n",
       "4  Bioengineered. 2021 Dec;12(2):11124-11135. doi...             Su D   \n",
       "\n",
       "         Journal/Book  Publication Year Create Date       PMCID NIHMS ID  \\\n",
       "0        N Engl J Med              2022  2021-12-15  PMC8693692      NaN   \n",
       "1    Invest New Drugs              2022  2021-09-08         NaN      NaN   \n",
       "2  World J Clin Cases              2022  2022-02-07  PMC8790434      NaN   \n",
       "3             Sci Rep              2021  2021-12-15  PMC8671486      NaN   \n",
       "4       Bioengineered              2021  2021-12-20  PMC8810100      NaN   \n",
       "\n",
       "                             DOI  Year  Month  \n",
       "0          10.1056/NEJMoa2116185  2021     12  \n",
       "1     10.1007/s10637-021-01155-w  2021      9  \n",
       "2       10.12998/wjcc.v10.i3.870  2022      2  \n",
       "3     10.1038/s41598-021-03209-8  2021     12  \n",
       "4  10.1080/21655979.2021.2001239  2021     12  "
      ]
     },
     "execution_count": 14,
     "metadata": {},
     "output_type": "execute_result"
    }
   ],
   "source": [
    "df.head()"
   ]
  },
  {
   "cell_type": "code",
   "execution_count": 15,
   "metadata": {},
   "outputs": [
    {
     "data": {
      "text/plain": [
       "PMID                  0\n",
       "Title                 0\n",
       "Authors               1\n",
       "Citation              0\n",
       "First Author          1\n",
       "Journal/Book          0\n",
       "Publication Year      0\n",
       "Create Date           0\n",
       "PMCID               270\n",
       "NIHMS ID            364\n",
       "DOI                  21\n",
       "Year                  0\n",
       "Month                 0\n",
       "dtype: int64"
      ]
     },
     "execution_count": 15,
     "metadata": {},
     "output_type": "execute_result"
    }
   ],
   "source": [
    "# check null values\n",
    "df.isna().sum()"
   ]
  },
  {
   "cell_type": "code",
   "execution_count": 16,
   "metadata": {},
   "outputs": [
    {
     "data": {
      "text/plain": [
       "(26, 13)"
      ]
     },
     "execution_count": 16,
     "metadata": {},
     "output_type": "execute_result"
    }
   ],
   "source": [
    "# publications in 2021\n",
    "df_21 = df[df['Year']==2021]\n",
    "df_21.shape"
   ]
  },
  {
   "cell_type": "code",
   "execution_count": 17,
   "metadata": {},
   "outputs": [
    {
     "data": {
      "application/vnd.plotly.v1+json": {
       "config": {
        "plotlyServerURL": "https://plot.ly"
       },
       "data": [
        {
         "domain": {
          "x": [
           0,
           1
          ],
          "y": [
           0,
           1
          ]
         },
         "hole": 0.3,
         "hovertemplate": "Month=%{value}<extra></extra>",
         "labels": [
          12,
          9,
          12,
          12,
          11,
          10,
          9,
          3,
          7,
          4,
          8,
          7,
          2,
          5,
          2,
          5,
          5,
          2,
          3,
          3,
          3,
          2,
          1,
          1,
          1,
          1
         ],
         "legendgroup": "",
         "name": "",
         "showlegend": true,
         "textinfo": "label+value+percent",
         "textposition": "inside",
         "type": "pie",
         "values": [
          12,
          9,
          12,
          12,
          11,
          10,
          9,
          3,
          7,
          4,
          8,
          7,
          2,
          5,
          2,
          5,
          5,
          2,
          3,
          3,
          3,
          2,
          1,
          1,
          1,
          1
         ]
        }
       ],
       "layout": {
        "height": 600,
        "legend": {
         "tracegroupgap": 0
        },
        "piecolorway": [
         "rgb(3, 5, 18)",
         "rgb(25, 25, 51)",
         "rgb(44, 42, 87)",
         "rgb(58, 60, 125)",
         "rgb(62, 83, 160)",
         "rgb(62, 109, 178)",
         "rgb(72, 134, 187)",
         "rgb(89, 159, 196)",
         "rgb(114, 184, 205)",
         "rgb(149, 207, 216)",
         "rgb(192, 229, 232)",
         "rgb(234, 252, 253)"
        ],
        "template": {
         "data": {
          "bar": [
           {
            "error_x": {
             "color": "#2a3f5f"
            },
            "error_y": {
             "color": "#2a3f5f"
            },
            "marker": {
             "line": {
              "color": "#E5ECF6",
              "width": 0.5
             },
             "pattern": {
              "fillmode": "overlay",
              "size": 10,
              "solidity": 0.2
             }
            },
            "type": "bar"
           }
          ],
          "barpolar": [
           {
            "marker": {
             "line": {
              "color": "#E5ECF6",
              "width": 0.5
             },
             "pattern": {
              "fillmode": "overlay",
              "size": 10,
              "solidity": 0.2
             }
            },
            "type": "barpolar"
           }
          ],
          "carpet": [
           {
            "aaxis": {
             "endlinecolor": "#2a3f5f",
             "gridcolor": "white",
             "linecolor": "white",
             "minorgridcolor": "white",
             "startlinecolor": "#2a3f5f"
            },
            "baxis": {
             "endlinecolor": "#2a3f5f",
             "gridcolor": "white",
             "linecolor": "white",
             "minorgridcolor": "white",
             "startlinecolor": "#2a3f5f"
            },
            "type": "carpet"
           }
          ],
          "choropleth": [
           {
            "colorbar": {
             "outlinewidth": 0,
             "ticks": ""
            },
            "type": "choropleth"
           }
          ],
          "contour": [
           {
            "colorbar": {
             "outlinewidth": 0,
             "ticks": ""
            },
            "colorscale": [
             [
              0,
              "#0d0887"
             ],
             [
              0.1111111111111111,
              "#46039f"
             ],
             [
              0.2222222222222222,
              "#7201a8"
             ],
             [
              0.3333333333333333,
              "#9c179e"
             ],
             [
              0.4444444444444444,
              "#bd3786"
             ],
             [
              0.5555555555555556,
              "#d8576b"
             ],
             [
              0.6666666666666666,
              "#ed7953"
             ],
             [
              0.7777777777777778,
              "#fb9f3a"
             ],
             [
              0.8888888888888888,
              "#fdca26"
             ],
             [
              1,
              "#f0f921"
             ]
            ],
            "type": "contour"
           }
          ],
          "contourcarpet": [
           {
            "colorbar": {
             "outlinewidth": 0,
             "ticks": ""
            },
            "type": "contourcarpet"
           }
          ],
          "heatmap": [
           {
            "colorbar": {
             "outlinewidth": 0,
             "ticks": ""
            },
            "colorscale": [
             [
              0,
              "#0d0887"
             ],
             [
              0.1111111111111111,
              "#46039f"
             ],
             [
              0.2222222222222222,
              "#7201a8"
             ],
             [
              0.3333333333333333,
              "#9c179e"
             ],
             [
              0.4444444444444444,
              "#bd3786"
             ],
             [
              0.5555555555555556,
              "#d8576b"
             ],
             [
              0.6666666666666666,
              "#ed7953"
             ],
             [
              0.7777777777777778,
              "#fb9f3a"
             ],
             [
              0.8888888888888888,
              "#fdca26"
             ],
             [
              1,
              "#f0f921"
             ]
            ],
            "type": "heatmap"
           }
          ],
          "heatmapgl": [
           {
            "colorbar": {
             "outlinewidth": 0,
             "ticks": ""
            },
            "colorscale": [
             [
              0,
              "#0d0887"
             ],
             [
              0.1111111111111111,
              "#46039f"
             ],
             [
              0.2222222222222222,
              "#7201a8"
             ],
             [
              0.3333333333333333,
              "#9c179e"
             ],
             [
              0.4444444444444444,
              "#bd3786"
             ],
             [
              0.5555555555555556,
              "#d8576b"
             ],
             [
              0.6666666666666666,
              "#ed7953"
             ],
             [
              0.7777777777777778,
              "#fb9f3a"
             ],
             [
              0.8888888888888888,
              "#fdca26"
             ],
             [
              1,
              "#f0f921"
             ]
            ],
            "type": "heatmapgl"
           }
          ],
          "histogram": [
           {
            "marker": {
             "pattern": {
              "fillmode": "overlay",
              "size": 10,
              "solidity": 0.2
             }
            },
            "type": "histogram"
           }
          ],
          "histogram2d": [
           {
            "colorbar": {
             "outlinewidth": 0,
             "ticks": ""
            },
            "colorscale": [
             [
              0,
              "#0d0887"
             ],
             [
              0.1111111111111111,
              "#46039f"
             ],
             [
              0.2222222222222222,
              "#7201a8"
             ],
             [
              0.3333333333333333,
              "#9c179e"
             ],
             [
              0.4444444444444444,
              "#bd3786"
             ],
             [
              0.5555555555555556,
              "#d8576b"
             ],
             [
              0.6666666666666666,
              "#ed7953"
             ],
             [
              0.7777777777777778,
              "#fb9f3a"
             ],
             [
              0.8888888888888888,
              "#fdca26"
             ],
             [
              1,
              "#f0f921"
             ]
            ],
            "type": "histogram2d"
           }
          ],
          "histogram2dcontour": [
           {
            "colorbar": {
             "outlinewidth": 0,
             "ticks": ""
            },
            "colorscale": [
             [
              0,
              "#0d0887"
             ],
             [
              0.1111111111111111,
              "#46039f"
             ],
             [
              0.2222222222222222,
              "#7201a8"
             ],
             [
              0.3333333333333333,
              "#9c179e"
             ],
             [
              0.4444444444444444,
              "#bd3786"
             ],
             [
              0.5555555555555556,
              "#d8576b"
             ],
             [
              0.6666666666666666,
              "#ed7953"
             ],
             [
              0.7777777777777778,
              "#fb9f3a"
             ],
             [
              0.8888888888888888,
              "#fdca26"
             ],
             [
              1,
              "#f0f921"
             ]
            ],
            "type": "histogram2dcontour"
           }
          ],
          "mesh3d": [
           {
            "colorbar": {
             "outlinewidth": 0,
             "ticks": ""
            },
            "type": "mesh3d"
           }
          ],
          "parcoords": [
           {
            "line": {
             "colorbar": {
              "outlinewidth": 0,
              "ticks": ""
             }
            },
            "type": "parcoords"
           }
          ],
          "pie": [
           {
            "automargin": true,
            "type": "pie"
           }
          ],
          "scatter": [
           {
            "marker": {
             "colorbar": {
              "outlinewidth": 0,
              "ticks": ""
             }
            },
            "type": "scatter"
           }
          ],
          "scatter3d": [
           {
            "line": {
             "colorbar": {
              "outlinewidth": 0,
              "ticks": ""
             }
            },
            "marker": {
             "colorbar": {
              "outlinewidth": 0,
              "ticks": ""
             }
            },
            "type": "scatter3d"
           }
          ],
          "scattercarpet": [
           {
            "marker": {
             "colorbar": {
              "outlinewidth": 0,
              "ticks": ""
             }
            },
            "type": "scattercarpet"
           }
          ],
          "scattergeo": [
           {
            "marker": {
             "colorbar": {
              "outlinewidth": 0,
              "ticks": ""
             }
            },
            "type": "scattergeo"
           }
          ],
          "scattergl": [
           {
            "marker": {
             "colorbar": {
              "outlinewidth": 0,
              "ticks": ""
             }
            },
            "type": "scattergl"
           }
          ],
          "scattermapbox": [
           {
            "marker": {
             "colorbar": {
              "outlinewidth": 0,
              "ticks": ""
             }
            },
            "type": "scattermapbox"
           }
          ],
          "scatterpolar": [
           {
            "marker": {
             "colorbar": {
              "outlinewidth": 0,
              "ticks": ""
             }
            },
            "type": "scatterpolar"
           }
          ],
          "scatterpolargl": [
           {
            "marker": {
             "colorbar": {
              "outlinewidth": 0,
              "ticks": ""
             }
            },
            "type": "scatterpolargl"
           }
          ],
          "scatterternary": [
           {
            "marker": {
             "colorbar": {
              "outlinewidth": 0,
              "ticks": ""
             }
            },
            "type": "scatterternary"
           }
          ],
          "surface": [
           {
            "colorbar": {
             "outlinewidth": 0,
             "ticks": ""
            },
            "colorscale": [
             [
              0,
              "#0d0887"
             ],
             [
              0.1111111111111111,
              "#46039f"
             ],
             [
              0.2222222222222222,
              "#7201a8"
             ],
             [
              0.3333333333333333,
              "#9c179e"
             ],
             [
              0.4444444444444444,
              "#bd3786"
             ],
             [
              0.5555555555555556,
              "#d8576b"
             ],
             [
              0.6666666666666666,
              "#ed7953"
             ],
             [
              0.7777777777777778,
              "#fb9f3a"
             ],
             [
              0.8888888888888888,
              "#fdca26"
             ],
             [
              1,
              "#f0f921"
             ]
            ],
            "type": "surface"
           }
          ],
          "table": [
           {
            "cells": {
             "fill": {
              "color": "#EBF0F8"
             },
             "line": {
              "color": "white"
             }
            },
            "header": {
             "fill": {
              "color": "#C8D4E3"
             },
             "line": {
              "color": "white"
             }
            },
            "type": "table"
           }
          ]
         },
         "layout": {
          "annotationdefaults": {
           "arrowcolor": "#2a3f5f",
           "arrowhead": 0,
           "arrowwidth": 1
          },
          "autotypenumbers": "strict",
          "coloraxis": {
           "colorbar": {
            "outlinewidth": 0,
            "ticks": ""
           }
          },
          "colorscale": {
           "diverging": [
            [
             0,
             "#8e0152"
            ],
            [
             0.1,
             "#c51b7d"
            ],
            [
             0.2,
             "#de77ae"
            ],
            [
             0.3,
             "#f1b6da"
            ],
            [
             0.4,
             "#fde0ef"
            ],
            [
             0.5,
             "#f7f7f7"
            ],
            [
             0.6,
             "#e6f5d0"
            ],
            [
             0.7,
             "#b8e186"
            ],
            [
             0.8,
             "#7fbc41"
            ],
            [
             0.9,
             "#4d9221"
            ],
            [
             1,
             "#276419"
            ]
           ],
           "sequential": [
            [
             0,
             "#0d0887"
            ],
            [
             0.1111111111111111,
             "#46039f"
            ],
            [
             0.2222222222222222,
             "#7201a8"
            ],
            [
             0.3333333333333333,
             "#9c179e"
            ],
            [
             0.4444444444444444,
             "#bd3786"
            ],
            [
             0.5555555555555556,
             "#d8576b"
            ],
            [
             0.6666666666666666,
             "#ed7953"
            ],
            [
             0.7777777777777778,
             "#fb9f3a"
            ],
            [
             0.8888888888888888,
             "#fdca26"
            ],
            [
             1,
             "#f0f921"
            ]
           ],
           "sequentialminus": [
            [
             0,
             "#0d0887"
            ],
            [
             0.1111111111111111,
             "#46039f"
            ],
            [
             0.2222222222222222,
             "#7201a8"
            ],
            [
             0.3333333333333333,
             "#9c179e"
            ],
            [
             0.4444444444444444,
             "#bd3786"
            ],
            [
             0.5555555555555556,
             "#d8576b"
            ],
            [
             0.6666666666666666,
             "#ed7953"
            ],
            [
             0.7777777777777778,
             "#fb9f3a"
            ],
            [
             0.8888888888888888,
             "#fdca26"
            ],
            [
             1,
             "#f0f921"
            ]
           ]
          },
          "colorway": [
           "#636efa",
           "#EF553B",
           "#00cc96",
           "#ab63fa",
           "#FFA15A",
           "#19d3f3",
           "#FF6692",
           "#B6E880",
           "#FF97FF",
           "#FECB52"
          ],
          "font": {
           "color": "#2a3f5f"
          },
          "geo": {
           "bgcolor": "white",
           "lakecolor": "white",
           "landcolor": "#E5ECF6",
           "showlakes": true,
           "showland": true,
           "subunitcolor": "white"
          },
          "hoverlabel": {
           "align": "left"
          },
          "hovermode": "closest",
          "mapbox": {
           "style": "light"
          },
          "paper_bgcolor": "white",
          "plot_bgcolor": "#E5ECF6",
          "polar": {
           "angularaxis": {
            "gridcolor": "white",
            "linecolor": "white",
            "ticks": ""
           },
           "bgcolor": "#E5ECF6",
           "radialaxis": {
            "gridcolor": "white",
            "linecolor": "white",
            "ticks": ""
           }
          },
          "scene": {
           "xaxis": {
            "backgroundcolor": "#E5ECF6",
            "gridcolor": "white",
            "gridwidth": 2,
            "linecolor": "white",
            "showbackground": true,
            "ticks": "",
            "zerolinecolor": "white"
           },
           "yaxis": {
            "backgroundcolor": "#E5ECF6",
            "gridcolor": "white",
            "gridwidth": 2,
            "linecolor": "white",
            "showbackground": true,
            "ticks": "",
            "zerolinecolor": "white"
           },
           "zaxis": {
            "backgroundcolor": "#E5ECF6",
            "gridcolor": "white",
            "gridwidth": 2,
            "linecolor": "white",
            "showbackground": true,
            "ticks": "",
            "zerolinecolor": "white"
           }
          },
          "shapedefaults": {
           "line": {
            "color": "#2a3f5f"
           }
          },
          "ternary": {
           "aaxis": {
            "gridcolor": "white",
            "linecolor": "white",
            "ticks": ""
           },
           "baxis": {
            "gridcolor": "white",
            "linecolor": "white",
            "ticks": ""
           },
           "bgcolor": "#E5ECF6",
           "caxis": {
            "gridcolor": "white",
            "linecolor": "white",
            "ticks": ""
           }
          },
          "title": {
           "x": 0.05
          },
          "xaxis": {
           "automargin": true,
           "gridcolor": "white",
           "linecolor": "white",
           "ticks": "",
           "title": {
            "standoff": 15
           },
           "zerolinecolor": "white",
           "zerolinewidth": 2
          },
          "yaxis": {
           "automargin": true,
           "gridcolor": "white",
           "linecolor": "white",
           "ticks": "",
           "title": {
            "standoff": 15
           },
           "zerolinecolor": "white",
           "zerolinewidth": 2
          }
         }
        },
        "title": {
         "text": "Monthwise Publications in Year 2021 "
        },
        "width": 600
       }
      }
     },
     "metadata": {},
     "output_type": "display_data"
    }
   ],
   "source": [
    "fig = px.pie(\n",
    "    df_21,\n",
    "    values='Month',\n",
    "    names='Month',\n",
    "    hole=0.3,\n",
    "    title='Monthwise Publications in Year 2021 ',\n",
    "    color_discrete_sequence=px.colors.sequential.ice,\n",
    ")\n",
    "\n",
    "fig.update_traces(textinfo='label+value+percent', textposition='inside')\n",
    "fig.update_layout(\n",
    "    width = 600,\n",
    "    height=600\n",
    ")\n",
    "fig.show()"
   ]
  },
  {
   "cell_type": "markdown",
   "metadata": {},
   "source": [
    "- In year 2021, in month of December highest number of papers published on Cancer research."
   ]
  },
  {
   "cell_type": "code",
   "execution_count": 18,
   "metadata": {},
   "outputs": [
    {
     "data": {
      "application/vnd.plotly.v1+json": {
       "config": {
        "plotlyServerURL": "https://plot.ly"
       },
       "data": [
        {
         "domain": {
          "x": [
           0,
           1
          ],
          "y": [
           0,
           1
          ]
         },
         "hole": 0.3,
         "hovertemplate": "Month=%{value}<extra></extra>",
         "labels": [
          9,
          11,
          12,
          12,
          5,
          11,
          11,
          10,
          9,
          9,
          7,
          9,
          5,
          6,
          6,
          5,
          8,
          4,
          6,
          5,
          6,
          2,
          4,
          2,
          5,
          1,
          1,
          1,
          3,
          2,
          2,
          1,
          1,
          2,
          7
         ],
         "legendgroup": "",
         "name": "",
         "showlegend": true,
         "textinfo": "label+value+percent",
         "textposition": "inside",
         "type": "pie",
         "values": [
          9,
          11,
          12,
          12,
          5,
          11,
          11,
          10,
          9,
          9,
          7,
          9,
          5,
          6,
          6,
          5,
          8,
          4,
          6,
          5,
          6,
          2,
          4,
          2,
          5,
          1,
          1,
          1,
          3,
          2,
          2,
          1,
          1,
          2,
          7
         ]
        }
       ],
       "layout": {
        "height": 600,
        "legend": {
         "tracegroupgap": 0
        },
        "piecolorway": [
         "rgb(3, 5, 18)",
         "rgb(25, 25, 51)",
         "rgb(44, 42, 87)",
         "rgb(58, 60, 125)",
         "rgb(62, 83, 160)",
         "rgb(62, 109, 178)",
         "rgb(72, 134, 187)",
         "rgb(89, 159, 196)",
         "rgb(114, 184, 205)",
         "rgb(149, 207, 216)",
         "rgb(192, 229, 232)",
         "rgb(234, 252, 253)"
        ],
        "template": {
         "data": {
          "bar": [
           {
            "error_x": {
             "color": "#2a3f5f"
            },
            "error_y": {
             "color": "#2a3f5f"
            },
            "marker": {
             "line": {
              "color": "#E5ECF6",
              "width": 0.5
             },
             "pattern": {
              "fillmode": "overlay",
              "size": 10,
              "solidity": 0.2
             }
            },
            "type": "bar"
           }
          ],
          "barpolar": [
           {
            "marker": {
             "line": {
              "color": "#E5ECF6",
              "width": 0.5
             },
             "pattern": {
              "fillmode": "overlay",
              "size": 10,
              "solidity": 0.2
             }
            },
            "type": "barpolar"
           }
          ],
          "carpet": [
           {
            "aaxis": {
             "endlinecolor": "#2a3f5f",
             "gridcolor": "white",
             "linecolor": "white",
             "minorgridcolor": "white",
             "startlinecolor": "#2a3f5f"
            },
            "baxis": {
             "endlinecolor": "#2a3f5f",
             "gridcolor": "white",
             "linecolor": "white",
             "minorgridcolor": "white",
             "startlinecolor": "#2a3f5f"
            },
            "type": "carpet"
           }
          ],
          "choropleth": [
           {
            "colorbar": {
             "outlinewidth": 0,
             "ticks": ""
            },
            "type": "choropleth"
           }
          ],
          "contour": [
           {
            "colorbar": {
             "outlinewidth": 0,
             "ticks": ""
            },
            "colorscale": [
             [
              0,
              "#0d0887"
             ],
             [
              0.1111111111111111,
              "#46039f"
             ],
             [
              0.2222222222222222,
              "#7201a8"
             ],
             [
              0.3333333333333333,
              "#9c179e"
             ],
             [
              0.4444444444444444,
              "#bd3786"
             ],
             [
              0.5555555555555556,
              "#d8576b"
             ],
             [
              0.6666666666666666,
              "#ed7953"
             ],
             [
              0.7777777777777778,
              "#fb9f3a"
             ],
             [
              0.8888888888888888,
              "#fdca26"
             ],
             [
              1,
              "#f0f921"
             ]
            ],
            "type": "contour"
           }
          ],
          "contourcarpet": [
           {
            "colorbar": {
             "outlinewidth": 0,
             "ticks": ""
            },
            "type": "contourcarpet"
           }
          ],
          "heatmap": [
           {
            "colorbar": {
             "outlinewidth": 0,
             "ticks": ""
            },
            "colorscale": [
             [
              0,
              "#0d0887"
             ],
             [
              0.1111111111111111,
              "#46039f"
             ],
             [
              0.2222222222222222,
              "#7201a8"
             ],
             [
              0.3333333333333333,
              "#9c179e"
             ],
             [
              0.4444444444444444,
              "#bd3786"
             ],
             [
              0.5555555555555556,
              "#d8576b"
             ],
             [
              0.6666666666666666,
              "#ed7953"
             ],
             [
              0.7777777777777778,
              "#fb9f3a"
             ],
             [
              0.8888888888888888,
              "#fdca26"
             ],
             [
              1,
              "#f0f921"
             ]
            ],
            "type": "heatmap"
           }
          ],
          "heatmapgl": [
           {
            "colorbar": {
             "outlinewidth": 0,
             "ticks": ""
            },
            "colorscale": [
             [
              0,
              "#0d0887"
             ],
             [
              0.1111111111111111,
              "#46039f"
             ],
             [
              0.2222222222222222,
              "#7201a8"
             ],
             [
              0.3333333333333333,
              "#9c179e"
             ],
             [
              0.4444444444444444,
              "#bd3786"
             ],
             [
              0.5555555555555556,
              "#d8576b"
             ],
             [
              0.6666666666666666,
              "#ed7953"
             ],
             [
              0.7777777777777778,
              "#fb9f3a"
             ],
             [
              0.8888888888888888,
              "#fdca26"
             ],
             [
              1,
              "#f0f921"
             ]
            ],
            "type": "heatmapgl"
           }
          ],
          "histogram": [
           {
            "marker": {
             "pattern": {
              "fillmode": "overlay",
              "size": 10,
              "solidity": 0.2
             }
            },
            "type": "histogram"
           }
          ],
          "histogram2d": [
           {
            "colorbar": {
             "outlinewidth": 0,
             "ticks": ""
            },
            "colorscale": [
             [
              0,
              "#0d0887"
             ],
             [
              0.1111111111111111,
              "#46039f"
             ],
             [
              0.2222222222222222,
              "#7201a8"
             ],
             [
              0.3333333333333333,
              "#9c179e"
             ],
             [
              0.4444444444444444,
              "#bd3786"
             ],
             [
              0.5555555555555556,
              "#d8576b"
             ],
             [
              0.6666666666666666,
              "#ed7953"
             ],
             [
              0.7777777777777778,
              "#fb9f3a"
             ],
             [
              0.8888888888888888,
              "#fdca26"
             ],
             [
              1,
              "#f0f921"
             ]
            ],
            "type": "histogram2d"
           }
          ],
          "histogram2dcontour": [
           {
            "colorbar": {
             "outlinewidth": 0,
             "ticks": ""
            },
            "colorscale": [
             [
              0,
              "#0d0887"
             ],
             [
              0.1111111111111111,
              "#46039f"
             ],
             [
              0.2222222222222222,
              "#7201a8"
             ],
             [
              0.3333333333333333,
              "#9c179e"
             ],
             [
              0.4444444444444444,
              "#bd3786"
             ],
             [
              0.5555555555555556,
              "#d8576b"
             ],
             [
              0.6666666666666666,
              "#ed7953"
             ],
             [
              0.7777777777777778,
              "#fb9f3a"
             ],
             [
              0.8888888888888888,
              "#fdca26"
             ],
             [
              1,
              "#f0f921"
             ]
            ],
            "type": "histogram2dcontour"
           }
          ],
          "mesh3d": [
           {
            "colorbar": {
             "outlinewidth": 0,
             "ticks": ""
            },
            "type": "mesh3d"
           }
          ],
          "parcoords": [
           {
            "line": {
             "colorbar": {
              "outlinewidth": 0,
              "ticks": ""
             }
            },
            "type": "parcoords"
           }
          ],
          "pie": [
           {
            "automargin": true,
            "type": "pie"
           }
          ],
          "scatter": [
           {
            "marker": {
             "colorbar": {
              "outlinewidth": 0,
              "ticks": ""
             }
            },
            "type": "scatter"
           }
          ],
          "scatter3d": [
           {
            "line": {
             "colorbar": {
              "outlinewidth": 0,
              "ticks": ""
             }
            },
            "marker": {
             "colorbar": {
              "outlinewidth": 0,
              "ticks": ""
             }
            },
            "type": "scatter3d"
           }
          ],
          "scattercarpet": [
           {
            "marker": {
             "colorbar": {
              "outlinewidth": 0,
              "ticks": ""
             }
            },
            "type": "scattercarpet"
           }
          ],
          "scattergeo": [
           {
            "marker": {
             "colorbar": {
              "outlinewidth": 0,
              "ticks": ""
             }
            },
            "type": "scattergeo"
           }
          ],
          "scattergl": [
           {
            "marker": {
             "colorbar": {
              "outlinewidth": 0,
              "ticks": ""
             }
            },
            "type": "scattergl"
           }
          ],
          "scattermapbox": [
           {
            "marker": {
             "colorbar": {
              "outlinewidth": 0,
              "ticks": ""
             }
            },
            "type": "scattermapbox"
           }
          ],
          "scatterpolar": [
           {
            "marker": {
             "colorbar": {
              "outlinewidth": 0,
              "ticks": ""
             }
            },
            "type": "scatterpolar"
           }
          ],
          "scatterpolargl": [
           {
            "marker": {
             "colorbar": {
              "outlinewidth": 0,
              "ticks": ""
             }
            },
            "type": "scatterpolargl"
           }
          ],
          "scatterternary": [
           {
            "marker": {
             "colorbar": {
              "outlinewidth": 0,
              "ticks": ""
             }
            },
            "type": "scatterternary"
           }
          ],
          "surface": [
           {
            "colorbar": {
             "outlinewidth": 0,
             "ticks": ""
            },
            "colorscale": [
             [
              0,
              "#0d0887"
             ],
             [
              0.1111111111111111,
              "#46039f"
             ],
             [
              0.2222222222222222,
              "#7201a8"
             ],
             [
              0.3333333333333333,
              "#9c179e"
             ],
             [
              0.4444444444444444,
              "#bd3786"
             ],
             [
              0.5555555555555556,
              "#d8576b"
             ],
             [
              0.6666666666666666,
              "#ed7953"
             ],
             [
              0.7777777777777778,
              "#fb9f3a"
             ],
             [
              0.8888888888888888,
              "#fdca26"
             ],
             [
              1,
              "#f0f921"
             ]
            ],
            "type": "surface"
           }
          ],
          "table": [
           {
            "cells": {
             "fill": {
              "color": "#EBF0F8"
             },
             "line": {
              "color": "white"
             }
            },
            "header": {
             "fill": {
              "color": "#C8D4E3"
             },
             "line": {
              "color": "white"
             }
            },
            "type": "table"
           }
          ]
         },
         "layout": {
          "annotationdefaults": {
           "arrowcolor": "#2a3f5f",
           "arrowhead": 0,
           "arrowwidth": 1
          },
          "autotypenumbers": "strict",
          "coloraxis": {
           "colorbar": {
            "outlinewidth": 0,
            "ticks": ""
           }
          },
          "colorscale": {
           "diverging": [
            [
             0,
             "#8e0152"
            ],
            [
             0.1,
             "#c51b7d"
            ],
            [
             0.2,
             "#de77ae"
            ],
            [
             0.3,
             "#f1b6da"
            ],
            [
             0.4,
             "#fde0ef"
            ],
            [
             0.5,
             "#f7f7f7"
            ],
            [
             0.6,
             "#e6f5d0"
            ],
            [
             0.7,
             "#b8e186"
            ],
            [
             0.8,
             "#7fbc41"
            ],
            [
             0.9,
             "#4d9221"
            ],
            [
             1,
             "#276419"
            ]
           ],
           "sequential": [
            [
             0,
             "#0d0887"
            ],
            [
             0.1111111111111111,
             "#46039f"
            ],
            [
             0.2222222222222222,
             "#7201a8"
            ],
            [
             0.3333333333333333,
             "#9c179e"
            ],
            [
             0.4444444444444444,
             "#bd3786"
            ],
            [
             0.5555555555555556,
             "#d8576b"
            ],
            [
             0.6666666666666666,
             "#ed7953"
            ],
            [
             0.7777777777777778,
             "#fb9f3a"
            ],
            [
             0.8888888888888888,
             "#fdca26"
            ],
            [
             1,
             "#f0f921"
            ]
           ],
           "sequentialminus": [
            [
             0,
             "#0d0887"
            ],
            [
             0.1111111111111111,
             "#46039f"
            ],
            [
             0.2222222222222222,
             "#7201a8"
            ],
            [
             0.3333333333333333,
             "#9c179e"
            ],
            [
             0.4444444444444444,
             "#bd3786"
            ],
            [
             0.5555555555555556,
             "#d8576b"
            ],
            [
             0.6666666666666666,
             "#ed7953"
            ],
            [
             0.7777777777777778,
             "#fb9f3a"
            ],
            [
             0.8888888888888888,
             "#fdca26"
            ],
            [
             1,
             "#f0f921"
            ]
           ]
          },
          "colorway": [
           "#636efa",
           "#EF553B",
           "#00cc96",
           "#ab63fa",
           "#FFA15A",
           "#19d3f3",
           "#FF6692",
           "#B6E880",
           "#FF97FF",
           "#FECB52"
          ],
          "font": {
           "color": "#2a3f5f"
          },
          "geo": {
           "bgcolor": "white",
           "lakecolor": "white",
           "landcolor": "#E5ECF6",
           "showlakes": true,
           "showland": true,
           "subunitcolor": "white"
          },
          "hoverlabel": {
           "align": "left"
          },
          "hovermode": "closest",
          "mapbox": {
           "style": "light"
          },
          "paper_bgcolor": "white",
          "plot_bgcolor": "#E5ECF6",
          "polar": {
           "angularaxis": {
            "gridcolor": "white",
            "linecolor": "white",
            "ticks": ""
           },
           "bgcolor": "#E5ECF6",
           "radialaxis": {
            "gridcolor": "white",
            "linecolor": "white",
            "ticks": ""
           }
          },
          "scene": {
           "xaxis": {
            "backgroundcolor": "#E5ECF6",
            "gridcolor": "white",
            "gridwidth": 2,
            "linecolor": "white",
            "showbackground": true,
            "ticks": "",
            "zerolinecolor": "white"
           },
           "yaxis": {
            "backgroundcolor": "#E5ECF6",
            "gridcolor": "white",
            "gridwidth": 2,
            "linecolor": "white",
            "showbackground": true,
            "ticks": "",
            "zerolinecolor": "white"
           },
           "zaxis": {
            "backgroundcolor": "#E5ECF6",
            "gridcolor": "white",
            "gridwidth": 2,
            "linecolor": "white",
            "showbackground": true,
            "ticks": "",
            "zerolinecolor": "white"
           }
          },
          "shapedefaults": {
           "line": {
            "color": "#2a3f5f"
           }
          },
          "ternary": {
           "aaxis": {
            "gridcolor": "white",
            "linecolor": "white",
            "ticks": ""
           },
           "baxis": {
            "gridcolor": "white",
            "linecolor": "white",
            "ticks": ""
           },
           "bgcolor": "#E5ECF6",
           "caxis": {
            "gridcolor": "white",
            "linecolor": "white",
            "ticks": ""
           }
          },
          "title": {
           "x": 0.05
          },
          "xaxis": {
           "automargin": true,
           "gridcolor": "white",
           "linecolor": "white",
           "ticks": "",
           "title": {
            "standoff": 15
           },
           "zerolinecolor": "white",
           "zerolinewidth": 2
          },
          "yaxis": {
           "automargin": true,
           "gridcolor": "white",
           "linecolor": "white",
           "ticks": "",
           "title": {
            "standoff": 15
           },
           "zerolinecolor": "white",
           "zerolinewidth": 2
          }
         }
        },
        "title": {
         "text": "Monthwise Publications in Year 2020 "
        },
        "width": 600
       }
      }
     },
     "metadata": {},
     "output_type": "display_data"
    }
   ],
   "source": [
    "# Monthwise publication in 2020\n",
    "df_20 = df[df['Year']==2020]\n",
    "\n",
    "fig = px.pie(\n",
    "    df_20,\n",
    "    values='Month',\n",
    "    names='Month',\n",
    "    hole=0.3,\n",
    "    title='Monthwise Publications in Year 2020 ',\n",
    "    color_discrete_sequence=px.colors.sequential.ice,\n",
    ")\n",
    "\n",
    "fig.update_traces(textinfo='label+value+percent', textposition='inside')\n",
    "\n",
    "fig.update_layout(\n",
    "    width = 600,\n",
    "    height=600\n",
    ")\n",
    "fig.show()"
   ]
  },
  {
   "cell_type": "markdown",
   "metadata": {},
   "source": [
    "- In september highest number of papers wer published in year 2020"
   ]
  },
  {
   "cell_type": "code",
   "execution_count": 19,
   "metadata": {},
   "outputs": [
    {
     "data": {
      "image/png": "[encoded data removed]",
      "text/plain": [
       "<Figure size 432x288 with 1 Axes>"
      ]
     },
     "metadata": {
      "needs_background": "light"
     },
     "output_type": "display_data"
    }
   ],
   "source": [
    "# Journal/Book\n",
    "# Top 15 Journals with highest Publication\n",
    "df['Journal/Book'].value_counts().head(15).plot(kind='bar');"
   ]
  },
  {
   "cell_type": "markdown",
   "metadata": {},
   "source": [
    "- `Radiology` and `Clin Cancer Res` journals have highest publications followed by Cancer `Chemother Pharmacol`."
   ]
  },
  {
   "cell_type": "code",
   "execution_count": 20,
   "metadata": {},
   "outputs": [
    {
     "data": {
      "text/plain": [
       "Vogl TJ            6\n",
       "Harisinghani MG    4\n",
       "Karakatsanis A     3\n",
       "Wang R             3\n",
       "Fabi A             2\n",
       "Li Y               2\n",
       "Mergo PJ           2\n",
       "Shi M              2\n",
       "Schmidt KT         2\n",
       "Chawla SP          2\n",
       "Name: First Author, dtype: int64"
      ]
     },
     "execution_count": 20,
     "metadata": {},
     "output_type": "execute_result"
    }
   ],
   "source": [
    "# Top First Authors with Multiple Publication\n",
    "df['First Author'].value_counts().head(10)"
   ]
  },
  {
   "cell_type": "markdown",
   "metadata": {},
   "source": [
    "### NLP \n",
    "\n",
    "On title column"
   ]
  },
  {
   "cell_type": "code",
   "execution_count": 21,
   "metadata": {},
   "outputs": [
    {
     "data": {
      "text/plain": [
       "Index(['PMID', 'Title', 'Authors', 'Citation', 'First Author', 'Journal/Book',\n",
       "       'Publication Year', 'Create Date', 'PMCID', 'NIHMS ID', 'DOI', 'Year',\n",
       "       'Month'],\n",
       "      dtype='object')"
      ]
     },
     "execution_count": 21,
     "metadata": {},
     "output_type": "execute_result"
    }
   ],
   "source": [
    "df.columns"
   ]
  },
  {
   "cell_type": "code",
   "execution_count": 22,
   "metadata": {},
   "outputs": [
    {
     "data": {
      "text/html": [
       "<div>\n",
       "<style scoped>\n",
       "    .dataframe tbody tr th:only-of-type {\n",
       "        vertical-align: middle;\n",
       "    }\n",
       "\n",
       "    .dataframe tbody tr th {\n",
       "        vertical-align: top;\n",
       "    }\n",
       "\n",
       "    .dataframe thead th {\n",
       "        text-align: right;\n",
       "    }\n",
       "</style>\n",
       "<table border=\"1\" class=\"dataframe\">\n",
       "  <thead>\n",
       "    <tr style=\"text-align: right;\">\n",
       "      <th></th>\n",
       "      <th>PMID</th>\n",
       "      <th>Title</th>\n",
       "      <th>First Author</th>\n",
       "      <th>Journal/Book</th>\n",
       "      <th>Publication Year</th>\n",
       "    </tr>\n",
       "  </thead>\n",
       "  <tbody>\n",
       "    <tr>\n",
       "      <th>0</th>\n",
       "      <td>34910859</td>\n",
       "      <td>Efficacy and Safety of NVX-CoV2373 in Adults i...</td>\n",
       "      <td>Dunkle LM</td>\n",
       "      <td>N Engl J Med</td>\n",
       "      <td>2022</td>\n",
       "    </tr>\n",
       "    <tr>\n",
       "      <th>1</th>\n",
       "      <td>34495421</td>\n",
       "      <td>Phase I study of weekly nab-paclitaxel plus ca...</td>\n",
       "      <td>Omori S</td>\n",
       "      <td>Invest New Drugs</td>\n",
       "      <td>2022</td>\n",
       "    </tr>\n",
       "    <tr>\n",
       "      <th>2</th>\n",
       "      <td>35127902</td>\n",
       "      <td>Role of carbon nanotracers in lymph node disse...</td>\n",
       "      <td>Zhao K</td>\n",
       "      <td>World J Clin Cases</td>\n",
       "      <td>2022</td>\n",
       "    </tr>\n",
       "    <tr>\n",
       "      <th>3</th>\n",
       "      <td>34907220</td>\n",
       "      <td>Application of green synthesized WO(3)-poly gl...</td>\n",
       "      <td>Nasrollahpour H</td>\n",
       "      <td>Sci Rep</td>\n",
       "      <td>2021</td>\n",
       "    </tr>\n",
       "    <tr>\n",
       "      <th>4</th>\n",
       "      <td>34923912</td>\n",
       "      <td>The transcatheter arterial chemoembolization c...</td>\n",
       "      <td>Su D</td>\n",
       "      <td>Bioengineered</td>\n",
       "      <td>2021</td>\n",
       "    </tr>\n",
       "    <tr>\n",
       "      <th>5</th>\n",
       "      <td>34753884</td>\n",
       "      <td>Phase II Study of the Modified Weekly Nab-pacl...</td>\n",
       "      <td>Yoshimura N</td>\n",
       "      <td>Am J Clin Oncol</td>\n",
       "      <td>2021</td>\n",
       "    </tr>\n",
       "    <tr>\n",
       "      <th>6</th>\n",
       "      <td>34637337</td>\n",
       "      <td>nab-Sirolimus for Patients With Malignant Peri...</td>\n",
       "      <td>Wagner AJ</td>\n",
       "      <td>J Clin Oncol</td>\n",
       "      <td>2021</td>\n",
       "    </tr>\n",
       "    <tr>\n",
       "      <th>7</th>\n",
       "      <td>34523232</td>\n",
       "      <td>Phase I/II study of biweekly nab-paclitaxel in...</td>\n",
       "      <td>Miyauchi E</td>\n",
       "      <td>Thorac Cancer</td>\n",
       "      <td>2021</td>\n",
       "    </tr>\n",
       "    <tr>\n",
       "      <th>8</th>\n",
       "      <td>33751208</td>\n",
       "      <td>Safety and antibody immune response of CHP-NY-...</td>\n",
       "      <td>Ishikawa T</td>\n",
       "      <td>Cancer Immunol Immunother</td>\n",
       "      <td>2021</td>\n",
       "    </tr>\n",
       "    <tr>\n",
       "      <th>9</th>\n",
       "      <td>34243976</td>\n",
       "      <td>Sequential Phase II clinical trials evaluating...</td>\n",
       "      <td>Krasner CN</td>\n",
       "      <td>Gynecol Oncol</td>\n",
       "      <td>2021</td>\n",
       "    </tr>\n",
       "  </tbody>\n",
       "</table>\n",
       "</div>"
      ],
      "text/plain": [
       "       PMID                                              Title  \\\n",
       "0  34910859  Efficacy and Safety of NVX-CoV2373 in Adults i...   \n",
       "1  34495421  Phase I study of weekly nab-paclitaxel plus ca...   \n",
       "2  35127902  Role of carbon nanotracers in lymph node disse...   \n",
       "3  34907220  Application of green synthesized WO(3)-poly gl...   \n",
       "4  34923912  The transcatheter arterial chemoembolization c...   \n",
       "5  34753884  Phase II Study of the Modified Weekly Nab-pacl...   \n",
       "6  34637337  nab-Sirolimus for Patients With Malignant Peri...   \n",
       "7  34523232  Phase I/II study of biweekly nab-paclitaxel in...   \n",
       "8  33751208  Safety and antibody immune response of CHP-NY-...   \n",
       "9  34243976  Sequential Phase II clinical trials evaluating...   \n",
       "\n",
       "      First Author               Journal/Book  Publication Year  \n",
       "0        Dunkle LM               N Engl J Med              2022  \n",
       "1          Omori S           Invest New Drugs              2022  \n",
       "2           Zhao K         World J Clin Cases              2022  \n",
       "3  Nasrollahpour H                    Sci Rep              2021  \n",
       "4             Su D              Bioengineered              2021  \n",
       "5      Yoshimura N            Am J Clin Oncol              2021  \n",
       "6        Wagner AJ               J Clin Oncol              2021  \n",
       "7       Miyauchi E              Thorac Cancer              2021  \n",
       "8       Ishikawa T  Cancer Immunol Immunother              2021  \n",
       "9       Krasner CN              Gynecol Oncol              2021  "
      ]
     },
     "execution_count": 22,
     "metadata": {},
     "output_type": "execute_result"
    }
   ],
   "source": [
    "data=df[[\"PMID\",'Title','First Author','Journal/Book','Publication Year']]\n",
    "data.head(10)"
   ]
  },
  {
   "cell_type": "code",
   "execution_count": 23,
   "metadata": {},
   "outputs": [],
   "source": [
    "# Removal of Punctuations\n",
    "import string\n",
    "\n",
    "data['Title'] = data['Title'].apply(lambda text: text.translate(str.maketrans('','',string.punctuation)))"
   ]
  },
  {
   "cell_type": "code",
   "execution_count": 24,
   "metadata": {},
   "outputs": [],
   "source": [
    "# Stopword Removal\n",
    "from gensim.parsing.preprocessing import remove_stopwords\n",
    "\n",
    "data['Title'] = data['Title'].apply(lambda text: \" \".join([remove_stopwords(word) for word in text.split()]))"
   ]
  },
  {
   "cell_type": "code",
   "execution_count": 25,
   "metadata": {},
   "outputs": [
    {
     "data": {
      "text/html": [
       "<div>\n",
       "<style scoped>\n",
       "    .dataframe tbody tr th:only-of-type {\n",
       "        vertical-align: middle;\n",
       "    }\n",
       "\n",
       "    .dataframe tbody tr th {\n",
       "        vertical-align: top;\n",
       "    }\n",
       "\n",
       "    .dataframe thead th {\n",
       "        text-align: right;\n",
       "    }\n",
       "</style>\n",
       "<table border=\"1\" class=\"dataframe\">\n",
       "  <thead>\n",
       "    <tr style=\"text-align: right;\">\n",
       "      <th></th>\n",
       "      <th>PMID</th>\n",
       "      <th>Title</th>\n",
       "      <th>First Author</th>\n",
       "      <th>Journal/Book</th>\n",
       "      <th>Publication Year</th>\n",
       "    </tr>\n",
       "  </thead>\n",
       "  <tbody>\n",
       "    <tr>\n",
       "      <th>0</th>\n",
       "      <td>34910859</td>\n",
       "      <td>Efficacy  Safety  NVXCoV2373  Adults   United ...</td>\n",
       "      <td>Dunkle LM</td>\n",
       "      <td>N Engl J Med</td>\n",
       "      <td>2022</td>\n",
       "    </tr>\n",
       "    <tr>\n",
       "      <th>1</th>\n",
       "      <td>34495421</td>\n",
       "      <td>Phase I study  weekly nabpaclitaxel plus carbo...</td>\n",
       "      <td>Omori S</td>\n",
       "      <td>Invest New Drugs</td>\n",
       "      <td>2022</td>\n",
       "    </tr>\n",
       "    <tr>\n",
       "      <th>2</th>\n",
       "      <td>35127902</td>\n",
       "      <td>Role  carbon nanotracers  lymph node dissectio...</td>\n",
       "      <td>Zhao K</td>\n",
       "      <td>World J Clin Cases</td>\n",
       "      <td>2022</td>\n",
       "    </tr>\n",
       "    <tr>\n",
       "      <th>3</th>\n",
       "      <td>34907220</td>\n",
       "      <td>Application  green synthesized WO3poly glutami...</td>\n",
       "      <td>Nasrollahpour H</td>\n",
       "      <td>Sci Rep</td>\n",
       "      <td>2021</td>\n",
       "    </tr>\n",
       "    <tr>\n",
       "      <th>4</th>\n",
       "      <td>34923912</td>\n",
       "      <td>The transcatheter arterial chemoembolization c...</td>\n",
       "      <td>Su D</td>\n",
       "      <td>Bioengineered</td>\n",
       "      <td>2021</td>\n",
       "    </tr>\n",
       "    <tr>\n",
       "      <th>...</th>\n",
       "      <td>...</td>\n",
       "      <td>...</td>\n",
       "      <td>...</td>\n",
       "      <td>...</td>\n",
       "      <td>...</td>\n",
       "    </tr>\n",
       "    <tr>\n",
       "      <th>394</th>\n",
       "      <td>8305692</td>\n",
       "      <td>The MR tomography  focal liver lesions   super...</td>\n",
       "      <td>Duda SH</td>\n",
       "      <td>Rofo</td>\n",
       "      <td>1994</td>\n",
       "    </tr>\n",
       "    <tr>\n",
       "      <th>395</th>\n",
       "      <td>8319063</td>\n",
       "      <td>Abdominal MRI   negative contrast agent</td>\n",
       "      <td>Bach-Gansmo T</td>\n",
       "      <td>Br J Radiol</td>\n",
       "      <td>1993</td>\n",
       "    </tr>\n",
       "    <tr>\n",
       "      <th>396</th>\n",
       "      <td>8472481</td>\n",
       "      <td>Phase III trial  oral magnetic particles  MRI ...</td>\n",
       "      <td>MacVicar D</td>\n",
       "      <td>Clin Radiol</td>\n",
       "      <td>1993</td>\n",
       "    </tr>\n",
       "    <tr>\n",
       "      <th>397</th>\n",
       "      <td>1428729</td>\n",
       "      <td>Phase I clinical trial  pharmacokinetic evalua...</td>\n",
       "      <td>Kattan J</td>\n",
       "      <td>Invest New Drugs</td>\n",
       "      <td>1992</td>\n",
       "    </tr>\n",
       "    <tr>\n",
       "      <th>398</th>\n",
       "      <td>1994417</td>\n",
       "      <td>Oral magnetic particles  MR imaging   abdomen ...</td>\n",
       "      <td>Rinck PA</td>\n",
       "      <td>Radiology</td>\n",
       "      <td>1991</td>\n",
       "    </tr>\n",
       "  </tbody>\n",
       "</table>\n",
       "<p>399 rows × 5 columns</p>\n",
       "</div>"
      ],
      "text/plain": [
       "         PMID                                              Title  \\\n",
       "0    34910859  Efficacy  Safety  NVXCoV2373  Adults   United ...   \n",
       "1    34495421  Phase I study  weekly nabpaclitaxel plus carbo...   \n",
       "2    35127902  Role  carbon nanotracers  lymph node dissectio...   \n",
       "3    34907220  Application  green synthesized WO3poly glutami...   \n",
       "4    34923912  The transcatheter arterial chemoembolization c...   \n",
       "..        ...                                                ...   \n",
       "394   8305692  The MR tomography  focal liver lesions   super...   \n",
       "395   8319063            Abdominal MRI   negative contrast agent   \n",
       "396   8472481  Phase III trial  oral magnetic particles  MRI ...   \n",
       "397   1428729  Phase I clinical trial  pharmacokinetic evalua...   \n",
       "398   1994417  Oral magnetic particles  MR imaging   abdomen ...   \n",
       "\n",
       "        First Author        Journal/Book  Publication Year  \n",
       "0          Dunkle LM        N Engl J Med              2022  \n",
       "1            Omori S    Invest New Drugs              2022  \n",
       "2             Zhao K  World J Clin Cases              2022  \n",
       "3    Nasrollahpour H             Sci Rep              2021  \n",
       "4               Su D       Bioengineered              2021  \n",
       "..               ...                 ...               ...  \n",
       "394          Duda SH                Rofo              1994  \n",
       "395    Bach-Gansmo T         Br J Radiol              1993  \n",
       "396       MacVicar D         Clin Radiol              1993  \n",
       "397         Kattan J    Invest New Drugs              1992  \n",
       "398         Rinck PA           Radiology              1991  \n",
       "\n",
       "[399 rows x 5 columns]"
      ]
     },
     "execution_count": 25,
     "metadata": {},
     "output_type": "execute_result"
    }
   ],
   "source": [
    "data"
   ]
  },
  {
   "cell_type": "code",
   "execution_count": 26,
   "metadata": {},
   "outputs": [
    {
     "data": {
      "text/plain": [
       "PMID                                                         34495421\n",
       "Title               Phase I study  weekly nabpaclitaxel plus carbo...\n",
       "First Author                                                  Omori S\n",
       "Journal/Book                                         Invest New Drugs\n",
       "Publication Year                                                 2022\n",
       "Name: 1, dtype: object"
      ]
     },
     "execution_count": 26,
     "metadata": {},
     "output_type": "execute_result"
    }
   ],
   "source": [
    "data.iloc[1]"
   ]
  },
  {
   "cell_type": "code",
   "execution_count": 27,
   "metadata": {},
   "outputs": [],
   "source": [
    "# Replacing the Phase I/II/II with a joint word \n",
    "# i.e. Phase I becomes PhaseI\n",
    "\n",
    "import re\n",
    "\n",
    "def renameTrial(text):\n",
    "    text = re.sub(r'(Phase|phase)?\\s([0-3]|[I]{1,3})', r\"\\1\\2\", text)\n",
    "\n",
    "    return text\n",
    "\n"
   ]
  },
  {
   "cell_type": "code",
   "execution_count": 28,
   "metadata": {},
   "outputs": [],
   "source": [
    "data['Title'] = data['Title'].apply(lambda text: renameTrial(text))"
   ]
  },
  {
   "cell_type": "code",
   "execution_count": 29,
   "metadata": {},
   "outputs": [
    {
     "data": {
      "text/html": [
       "<div>\n",
       "<style scoped>\n",
       "    .dataframe tbody tr th:only-of-type {\n",
       "        vertical-align: middle;\n",
       "    }\n",
       "\n",
       "    .dataframe tbody tr th {\n",
       "        vertical-align: top;\n",
       "    }\n",
       "\n",
       "    .dataframe thead th {\n",
       "        text-align: right;\n",
       "    }\n",
       "</style>\n",
       "<table border=\"1\" class=\"dataframe\">\n",
       "  <thead>\n",
       "    <tr style=\"text-align: right;\">\n",
       "      <th></th>\n",
       "      <th>PMID</th>\n",
       "      <th>Title</th>\n",
       "      <th>First Author</th>\n",
       "      <th>Journal/Book</th>\n",
       "      <th>Publication Year</th>\n",
       "    </tr>\n",
       "  </thead>\n",
       "  <tbody>\n",
       "    <tr>\n",
       "      <th>0</th>\n",
       "      <td>34910859</td>\n",
       "      <td>Efficacy  Safety  NVXCoV2373  Adults   United ...</td>\n",
       "      <td>Dunkle LM</td>\n",
       "      <td>N Engl J Med</td>\n",
       "      <td>2022</td>\n",
       "    </tr>\n",
       "    <tr>\n",
       "      <th>1</th>\n",
       "      <td>34495421</td>\n",
       "      <td>PhaseI study  weekly nabpaclitaxel plus carbop...</td>\n",
       "      <td>Omori S</td>\n",
       "      <td>Invest New Drugs</td>\n",
       "      <td>2022</td>\n",
       "    </tr>\n",
       "    <tr>\n",
       "      <th>2</th>\n",
       "      <td>35127902</td>\n",
       "      <td>Role  carbon nanotracers  lymph node dissectio...</td>\n",
       "      <td>Zhao K</td>\n",
       "      <td>World J Clin Cases</td>\n",
       "      <td>2022</td>\n",
       "    </tr>\n",
       "    <tr>\n",
       "      <th>3</th>\n",
       "      <td>34907220</td>\n",
       "      <td>Application  green synthesized WO3poly glutami...</td>\n",
       "      <td>Nasrollahpour H</td>\n",
       "      <td>Sci Rep</td>\n",
       "      <td>2021</td>\n",
       "    </tr>\n",
       "    <tr>\n",
       "      <th>4</th>\n",
       "      <td>34923912</td>\n",
       "      <td>The transcatheter arterial chemoembolization c...</td>\n",
       "      <td>Su D</td>\n",
       "      <td>Bioengineered</td>\n",
       "      <td>2021</td>\n",
       "    </tr>\n",
       "    <tr>\n",
       "      <th>...</th>\n",
       "      <td>...</td>\n",
       "      <td>...</td>\n",
       "      <td>...</td>\n",
       "      <td>...</td>\n",
       "      <td>...</td>\n",
       "    </tr>\n",
       "    <tr>\n",
       "      <th>394</th>\n",
       "      <td>8305692</td>\n",
       "      <td>The MR tomography  focal liver lesions   super...</td>\n",
       "      <td>Duda SH</td>\n",
       "      <td>Rofo</td>\n",
       "      <td>1994</td>\n",
       "    </tr>\n",
       "    <tr>\n",
       "      <th>395</th>\n",
       "      <td>8319063</td>\n",
       "      <td>Abdominal MRI   negative contrast agent</td>\n",
       "      <td>Bach-Gansmo T</td>\n",
       "      <td>Br J Radiol</td>\n",
       "      <td>1993</td>\n",
       "    </tr>\n",
       "    <tr>\n",
       "      <th>396</th>\n",
       "      <td>8472481</td>\n",
       "      <td>PhaseIII trial  oral magnetic particles  MRI  ...</td>\n",
       "      <td>MacVicar D</td>\n",
       "      <td>Clin Radiol</td>\n",
       "      <td>1993</td>\n",
       "    </tr>\n",
       "    <tr>\n",
       "      <th>397</th>\n",
       "      <td>1428729</td>\n",
       "      <td>PhaseI clinical trial  pharmacokinetic evaluat...</td>\n",
       "      <td>Kattan J</td>\n",
       "      <td>Invest New Drugs</td>\n",
       "      <td>1992</td>\n",
       "    </tr>\n",
       "    <tr>\n",
       "      <th>398</th>\n",
       "      <td>1994417</td>\n",
       "      <td>Oral magnetic particles  MR imaging   abdomen ...</td>\n",
       "      <td>Rinck PA</td>\n",
       "      <td>Radiology</td>\n",
       "      <td>1991</td>\n",
       "    </tr>\n",
       "  </tbody>\n",
       "</table>\n",
       "<p>399 rows × 5 columns</p>\n",
       "</div>"
      ],
      "text/plain": [
       "         PMID                                              Title  \\\n",
       "0    34910859  Efficacy  Safety  NVXCoV2373  Adults   United ...   \n",
       "1    34495421  PhaseI study  weekly nabpaclitaxel plus carbop...   \n",
       "2    35127902  Role  carbon nanotracers  lymph node dissectio...   \n",
       "3    34907220  Application  green synthesized WO3poly glutami...   \n",
       "4    34923912  The transcatheter arterial chemoembolization c...   \n",
       "..        ...                                                ...   \n",
       "394   8305692  The MR tomography  focal liver lesions   super...   \n",
       "395   8319063            Abdominal MRI   negative contrast agent   \n",
       "396   8472481  PhaseIII trial  oral magnetic particles  MRI  ...   \n",
       "397   1428729  PhaseI clinical trial  pharmacokinetic evaluat...   \n",
       "398   1994417  Oral magnetic particles  MR imaging   abdomen ...   \n",
       "\n",
       "        First Author        Journal/Book  Publication Year  \n",
       "0          Dunkle LM        N Engl J Med              2022  \n",
       "1            Omori S    Invest New Drugs              2022  \n",
       "2             Zhao K  World J Clin Cases              2022  \n",
       "3    Nasrollahpour H             Sci Rep              2021  \n",
       "4               Su D       Bioengineered              2021  \n",
       "..               ...                 ...               ...  \n",
       "394          Duda SH                Rofo              1994  \n",
       "395    Bach-Gansmo T         Br J Radiol              1993  \n",
       "396       MacVicar D         Clin Radiol              1993  \n",
       "397         Kattan J    Invest New Drugs              1992  \n",
       "398         Rinck PA           Radiology              1991  \n",
       "\n",
       "[399 rows x 5 columns]"
      ]
     },
     "execution_count": 29,
     "metadata": {},
     "output_type": "execute_result"
    }
   ],
   "source": [
    "data"
   ]
  },
  {
   "cell_type": "code",
   "execution_count": 30,
   "metadata": {},
   "outputs": [],
   "source": [
    "# Tokenization and Stemming\n",
    "from nltk.tokenize import word_tokenize\n",
    "from nltk.stem import PorterStemmer\n",
    "\n",
    "data['Title'] = data['Title'].apply(lambda sentence: \" \".join([PorterStemmer().stem(word) for word in word_tokenize(sentence)]))"
   ]
  },
  {
   "cell_type": "code",
   "execution_count": 31,
   "metadata": {},
   "outputs": [
    {
     "data": {
      "text/html": [
       "<div>\n",
       "<style scoped>\n",
       "    .dataframe tbody tr th:only-of-type {\n",
       "        vertical-align: middle;\n",
       "    }\n",
       "\n",
       "    .dataframe tbody tr th {\n",
       "        vertical-align: top;\n",
       "    }\n",
       "\n",
       "    .dataframe thead th {\n",
       "        text-align: right;\n",
       "    }\n",
       "</style>\n",
       "<table border=\"1\" class=\"dataframe\">\n",
       "  <thead>\n",
       "    <tr style=\"text-align: right;\">\n",
       "      <th></th>\n",
       "      <th>PMID</th>\n",
       "      <th>Title</th>\n",
       "      <th>First Author</th>\n",
       "      <th>Journal/Book</th>\n",
       "      <th>Publication Year</th>\n",
       "    </tr>\n",
       "  </thead>\n",
       "  <tbody>\n",
       "    <tr>\n",
       "      <th>0</th>\n",
       "      <td>34910859</td>\n",
       "      <td>efficaci safeti nvxcov2373 adult unit state me...</td>\n",
       "      <td>Dunkle LM</td>\n",
       "      <td>N Engl J Med</td>\n",
       "      <td>2022</td>\n",
       "    </tr>\n",
       "    <tr>\n",
       "      <th>1</th>\n",
       "      <td>34495421</td>\n",
       "      <td>phasei studi weekli nabpaclitaxel plu carbopla...</td>\n",
       "      <td>Omori S</td>\n",
       "      <td>Invest New Drugs</td>\n",
       "      <td>2022</td>\n",
       "    </tr>\n",
       "    <tr>\n",
       "      <th>2</th>\n",
       "      <td>35127902</td>\n",
       "      <td>role carbon nanotrac lymph node dissect advanc...</td>\n",
       "      <td>Zhao K</td>\n",
       "      <td>World J Clin Cases</td>\n",
       "      <td>2022</td>\n",
       "    </tr>\n",
       "    <tr>\n",
       "      <th>3</th>\n",
       "      <td>34907220</td>\n",
       "      <td>applic green synthes wo3poli glutam acid nanob...</td>\n",
       "      <td>Nasrollahpour H</td>\n",
       "      <td>Sci Rep</td>\n",
       "      <td>2021</td>\n",
       "    </tr>\n",
       "    <tr>\n",
       "      <th>4</th>\n",
       "      <td>34923912</td>\n",
       "      <td>the transcathet arteri chemoembol combin targe...</td>\n",
       "      <td>Su D</td>\n",
       "      <td>Bioengineered</td>\n",
       "      <td>2021</td>\n",
       "    </tr>\n",
       "    <tr>\n",
       "      <th>...</th>\n",
       "      <td>...</td>\n",
       "      <td>...</td>\n",
       "      <td>...</td>\n",
       "      <td>...</td>\n",
       "      <td>...</td>\n",
       "    </tr>\n",
       "    <tr>\n",
       "      <th>394</th>\n",
       "      <td>8305692</td>\n",
       "      <td>the mr tomographi focal liver lesion superpara...</td>\n",
       "      <td>Duda SH</td>\n",
       "      <td>Rofo</td>\n",
       "      <td>1994</td>\n",
       "    </tr>\n",
       "    <tr>\n",
       "      <th>395</th>\n",
       "      <td>8319063</td>\n",
       "      <td>abdomin mri neg contrast agent</td>\n",
       "      <td>Bach-Gansmo T</td>\n",
       "      <td>Br J Radiol</td>\n",
       "      <td>1993</td>\n",
       "    </tr>\n",
       "    <tr>\n",
       "      <th>396</th>\n",
       "      <td>8472481</td>\n",
       "      <td>phaseiii trial oral magnet particl mri abdomen...</td>\n",
       "      <td>MacVicar D</td>\n",
       "      <td>Clin Radiol</td>\n",
       "      <td>1993</td>\n",
       "    </tr>\n",
       "    <tr>\n",
       "      <th>397</th>\n",
       "      <td>1428729</td>\n",
       "      <td>phasei clinic trial pharmacokinet evalu doxoru...</td>\n",
       "      <td>Kattan J</td>\n",
       "      <td>Invest New Drugs</td>\n",
       "      <td>1992</td>\n",
       "    </tr>\n",
       "    <tr>\n",
       "      <th>398</th>\n",
       "      <td>1994417</td>\n",
       "      <td>oral magnet particl mr imag abdomen pelvi</td>\n",
       "      <td>Rinck PA</td>\n",
       "      <td>Radiology</td>\n",
       "      <td>1991</td>\n",
       "    </tr>\n",
       "  </tbody>\n",
       "</table>\n",
       "<p>399 rows × 5 columns</p>\n",
       "</div>"
      ],
      "text/plain": [
       "         PMID                                              Title  \\\n",
       "0    34910859  efficaci safeti nvxcov2373 adult unit state me...   \n",
       "1    34495421  phasei studi weekli nabpaclitaxel plu carbopla...   \n",
       "2    35127902  role carbon nanotrac lymph node dissect advanc...   \n",
       "3    34907220  applic green synthes wo3poli glutam acid nanob...   \n",
       "4    34923912  the transcathet arteri chemoembol combin targe...   \n",
       "..        ...                                                ...   \n",
       "394   8305692  the mr tomographi focal liver lesion superpara...   \n",
       "395   8319063                     abdomin mri neg contrast agent   \n",
       "396   8472481  phaseiii trial oral magnet particl mri abdomen...   \n",
       "397   1428729  phasei clinic trial pharmacokinet evalu doxoru...   \n",
       "398   1994417          oral magnet particl mr imag abdomen pelvi   \n",
       "\n",
       "        First Author        Journal/Book  Publication Year  \n",
       "0          Dunkle LM        N Engl J Med              2022  \n",
       "1            Omori S    Invest New Drugs              2022  \n",
       "2             Zhao K  World J Clin Cases              2022  \n",
       "3    Nasrollahpour H             Sci Rep              2021  \n",
       "4               Su D       Bioengineered              2021  \n",
       "..               ...                 ...               ...  \n",
       "394          Duda SH                Rofo              1994  \n",
       "395    Bach-Gansmo T         Br J Radiol              1993  \n",
       "396       MacVicar D         Clin Radiol              1993  \n",
       "397         Kattan J    Invest New Drugs              1992  \n",
       "398         Rinck PA           Radiology              1991  \n",
       "\n",
       "[399 rows x 5 columns]"
      ]
     },
     "execution_count": 31,
     "metadata": {},
     "output_type": "execute_result"
    }
   ],
   "source": [
    "data"
   ]
  },
  {
   "cell_type": "markdown",
   "metadata": {},
   "source": [
    "#### WordCloud"
   ]
  },
  {
   "cell_type": "code",
   "execution_count": 32,
   "metadata": {},
   "outputs": [],
   "source": [
    "import nltk\n",
    "from nltk.corpus import stopwords\n",
    "from wordcloud import WordCloud\n",
    "\n",
    "stop_words_english = set(stopwords.words('english'))\n",
    "\n",
    "totalwords = []\n",
    "sentences = data['Title'].values\n",
    "\n",
    "\n",
    "for i in sentences:\n",
    "    for word in i.split():\n",
    "        if word not in stop_words_english:\n",
    "            totalwords.append(word)\n",
    "\n",
    "\n",
    "totalwords\n",
    "\n",
    "filtered_words = ' '.join(totalwords)"
   ]
  },
  {
   "cell_type": "code",
   "execution_count": 33,
   "metadata": {},
   "outputs": [
    {
     "data": {
      "text/plain": [
       "5176"
      ]
     },
     "execution_count": 33,
     "metadata": {},
     "output_type": "execute_result"
    }
   ],
   "source": [
    "len(totalwords)"
   ]
  },
  {
   "cell_type": "code",
   "execution_count": 51,
   "metadata": {},
   "outputs": [
    {
     "data": {
      "image/png": "[encoded data removed]",
      "text/plain": [
       "<Figure size 720x576 with 1 Axes>"
      ]
     },
     "metadata": {
      "needs_background": "light"
     },
     "output_type": "display_data"
    }
   ],
   "source": [
    "import wordcloud\n",
    "\n",
    "freq = nltk.FreqDist(totalwords)\n",
    "wc = wordcloud.WordCloud(mode='RGBA',background_color=None).generate_from_frequencies(freq)\n",
    "\n",
    "\n",
    "plt.figure(figsize=(10,8))\n",
    "plt.imshow(wc, interpolation='bilinear')\n",
    "plt.axis('off')\n",
    "plt.show()"
   ]
  },
  {
   "cell_type": "markdown",
   "metadata": {},
   "source": [
    "- Current trend cancer research is nanoparticle, albuminbound compounds, and drugs like `paclitaxel` which is a `Taxol` product."
   ]
  },
  {
   "cell_type": "markdown",
   "metadata": {},
   "source": [
    "## Count of different phase of clinical trials in the dataset\n",
    "\n",
    "Number of occurrences of phases"
   ]
  },
  {
   "cell_type": "code",
   "execution_count": 35,
   "metadata": {},
   "outputs": [
    {
     "name": "stdout",
     "output_type": "stream",
     "text": [
      "Total occurrences of Phase 0: 1\n"
     ]
    }
   ],
   "source": [
    "print(\"Total occurrences of Phase 0: {}\".format(freq['phase0']))"
   ]
  },
  {
   "cell_type": "code",
   "execution_count": 36,
   "metadata": {},
   "outputs": [
    {
     "name": "stdout",
     "output_type": "stream",
     "text": [
      "Total occurrences of Phase 1:  47\n"
     ]
    }
   ],
   "source": [
    "# Phase 1\n",
    "print(\"Total occurrences of Phase 1: \",freq['phasei'] + freq['phase1']) "
   ]
  },
  {
   "cell_type": "code",
   "execution_count": 37,
   "metadata": {},
   "outputs": [
    {
     "name": "stdout",
     "output_type": "stream",
     "text": [
      "Total occurrences of Phase 2:  74\n"
     ]
    }
   ],
   "source": [
    "# Phase 2\n",
    "print(\"Total occurrences of Phase 2: \",freq['phaseii'] + freq['phase2'])"
   ]
  },
  {
   "cell_type": "code",
   "execution_count": 38,
   "metadata": {},
   "outputs": [
    {
     "name": "stdout",
     "output_type": "stream",
     "text": [
      "Total concurrences of Phase 3:  29\n"
     ]
    }
   ],
   "source": [
    "# Phase 3\n",
    "print(\"Total concurrences of Phase 3: \",freq['phaseiii'] + freq['phase3'])"
   ]
  },
  {
   "cell_type": "code",
   "execution_count": 39,
   "metadata": {},
   "outputs": [
    {
     "data": {
      "text/html": [
       "<div>\n",
       "<style scoped>\n",
       "    .dataframe tbody tr th:only-of-type {\n",
       "        vertical-align: middle;\n",
       "    }\n",
       "\n",
       "    .dataframe tbody tr th {\n",
       "        vertical-align: top;\n",
       "    }\n",
       "\n",
       "    .dataframe thead th {\n",
       "        text-align: right;\n",
       "    }\n",
       "</style>\n",
       "<table border=\"1\" class=\"dataframe\">\n",
       "  <thead>\n",
       "    <tr style=\"text-align: right;\">\n",
       "      <th></th>\n",
       "      <th>Phases</th>\n",
       "      <th>No.of occurrences</th>\n",
       "    </tr>\n",
       "  </thead>\n",
       "  <tbody>\n",
       "    <tr>\n",
       "      <th>0</th>\n",
       "      <td>phase1</td>\n",
       "      <td>47</td>\n",
       "    </tr>\n",
       "    <tr>\n",
       "      <th>1</th>\n",
       "      <td>phase2</td>\n",
       "      <td>74</td>\n",
       "    </tr>\n",
       "    <tr>\n",
       "      <th>2</th>\n",
       "      <td>phase3</td>\n",
       "      <td>29</td>\n",
       "    </tr>\n",
       "    <tr>\n",
       "      <th>3</th>\n",
       "      <td>phase0</td>\n",
       "      <td>1</td>\n",
       "    </tr>\n",
       "  </tbody>\n",
       "</table>\n",
       "</div>"
      ],
      "text/plain": [
       "   Phases  No.of occurrences\n",
       "0  phase1                 47\n",
       "1  phase2                 74\n",
       "2  phase3                 29\n",
       "3  phase0                  1"
      ]
     },
     "execution_count": 39,
     "metadata": {},
     "output_type": "execute_result"
    }
   ],
   "source": [
    "\n",
    "phases = pd.DataFrame({\"Phases\":['phase1','phase2','phase3','phase0'], \"No.of occurrences\":[47, 74, 29, 1]})\n",
    "phases"
   ]
  },
  {
   "cell_type": "code",
   "execution_count": 40,
   "metadata": {},
   "outputs": [],
   "source": [
    "# Dump the frequency dictionary to the json\n",
    "import json\n",
    "\n",
    "with open(\"cancer_journal.json\", 'w') as file:\n",
    "    json.dump(freq, file)"
   ]
  },
  {
   "cell_type": "code",
   "execution_count": 41,
   "metadata": {},
   "outputs": [
    {
     "data": {
      "text/html": [
       "<div>\n",
       "<style scoped>\n",
       "    .dataframe tbody tr th:only-of-type {\n",
       "        vertical-align: middle;\n",
       "    }\n",
       "\n",
       "    .dataframe tbody tr th {\n",
       "        vertical-align: top;\n",
       "    }\n",
       "\n",
       "    .dataframe thead th {\n",
       "        text-align: right;\n",
       "    }\n",
       "</style>\n",
       "<table border=\"1\" class=\"dataframe\">\n",
       "  <thead>\n",
       "    <tr style=\"text-align: right;\">\n",
       "      <th></th>\n",
       "      <th>text</th>\n",
       "      <th>count</th>\n",
       "    </tr>\n",
       "  </thead>\n",
       "  <tbody>\n",
       "    <tr>\n",
       "      <th>24</th>\n",
       "      <td>cancer</td>\n",
       "      <td>176</td>\n",
       "    </tr>\n",
       "    <tr>\n",
       "      <th>17</th>\n",
       "      <td>patient</td>\n",
       "      <td>152</td>\n",
       "    </tr>\n",
       "    <tr>\n",
       "      <th>54</th>\n",
       "      <td>nanoparticl</td>\n",
       "      <td>143</td>\n",
       "    </tr>\n",
       "    <tr>\n",
       "      <th>8</th>\n",
       "      <td>studi</td>\n",
       "      <td>119</td>\n",
       "    </tr>\n",
       "    <tr>\n",
       "      <th>86</th>\n",
       "      <td>trial</td>\n",
       "      <td>99</td>\n",
       "    </tr>\n",
       "    <tr>\n",
       "      <th>95</th>\n",
       "      <td>paclitaxel</td>\n",
       "      <td>85</td>\n",
       "    </tr>\n",
       "    <tr>\n",
       "      <th>20</th>\n",
       "      <td>advanc</td>\n",
       "      <td>84</td>\n",
       "    </tr>\n",
       "    <tr>\n",
       "      <th>46</th>\n",
       "      <td>breast</td>\n",
       "      <td>74</td>\n",
       "    </tr>\n",
       "    <tr>\n",
       "      <th>94</th>\n",
       "      <td>albuminbound</td>\n",
       "      <td>64</td>\n",
       "    </tr>\n",
       "    <tr>\n",
       "      <th>62</th>\n",
       "      <td>phaseii</td>\n",
       "      <td>63</td>\n",
       "    </tr>\n",
       "    <tr>\n",
       "      <th>424</th>\n",
       "      <td>imag</td>\n",
       "      <td>63</td>\n",
       "    </tr>\n",
       "    <tr>\n",
       "      <th>10</th>\n",
       "      <td>nabpaclitaxel</td>\n",
       "      <td>56</td>\n",
       "    </tr>\n",
       "    <tr>\n",
       "      <th>85</th>\n",
       "      <td>clinic</td>\n",
       "      <td>54</td>\n",
       "    </tr>\n",
       "    <tr>\n",
       "      <th>816</th>\n",
       "      <td>mr</td>\n",
       "      <td>52</td>\n",
       "    </tr>\n",
       "    <tr>\n",
       "      <th>29</th>\n",
       "      <td>node</td>\n",
       "      <td>46</td>\n",
       "    </tr>\n",
       "    <tr>\n",
       "      <th>258</th>\n",
       "      <td>superparamagnet</td>\n",
       "      <td>44</td>\n",
       "    </tr>\n",
       "    <tr>\n",
       "      <th>71</th>\n",
       "      <td>tumor</td>\n",
       "      <td>44</td>\n",
       "    </tr>\n",
       "    <tr>\n",
       "      <th>128</th>\n",
       "      <td>metastat</td>\n",
       "      <td>43</td>\n",
       "    </tr>\n",
       "    <tr>\n",
       "      <th>295</th>\n",
       "      <td>liver</td>\n",
       "      <td>42</td>\n",
       "    </tr>\n",
       "    <tr>\n",
       "      <th>7</th>\n",
       "      <td>phasei</td>\n",
       "      <td>41</td>\n",
       "    </tr>\n",
       "    <tr>\n",
       "      <th>28</th>\n",
       "      <td>lymph</td>\n",
       "      <td>41</td>\n",
       "    </tr>\n",
       "    <tr>\n",
       "      <th>61</th>\n",
       "      <td>carcinoma</td>\n",
       "      <td>40</td>\n",
       "    </tr>\n",
       "    <tr>\n",
       "      <th>259</th>\n",
       "      <td>iron</td>\n",
       "      <td>39</td>\n",
       "    </tr>\n",
       "    <tr>\n",
       "      <th>52</th>\n",
       "      <td>combin</td>\n",
       "      <td>37</td>\n",
       "    </tr>\n",
       "    <tr>\n",
       "      <th>57</th>\n",
       "      <td>treatment</td>\n",
       "      <td>37</td>\n",
       "    </tr>\n",
       "  </tbody>\n",
       "</table>\n",
       "</div>"
      ],
      "text/plain": [
       "                text  count\n",
       "24            cancer    176\n",
       "17           patient    152\n",
       "54       nanoparticl    143\n",
       "8              studi    119\n",
       "86             trial     99\n",
       "95        paclitaxel     85\n",
       "20            advanc     84\n",
       "46            breast     74\n",
       "94      albuminbound     64\n",
       "62           phaseii     63\n",
       "424             imag     63\n",
       "10     nabpaclitaxel     56\n",
       "85            clinic     54\n",
       "816               mr     52\n",
       "29              node     46\n",
       "258  superparamagnet     44\n",
       "71             tumor     44\n",
       "128         metastat     43\n",
       "295            liver     42\n",
       "7             phasei     41\n",
       "28             lymph     41\n",
       "61         carcinoma     40\n",
       "259             iron     39\n",
       "52            combin     37\n",
       "57         treatment     37"
      ]
     },
     "execution_count": 41,
     "metadata": {},
     "output_type": "execute_result"
    }
   ],
   "source": [
    "df1 = pd.DataFrame({\n",
    "    'text': freq.keys(),\n",
    "    'count':freq.values()\n",
    "})\n",
    "\n",
    "df1.sort_values(by='count', ascending=0).head(25)"
   ]
  },
  {
   "cell_type": "code",
   "execution_count": 42,
   "metadata": {},
   "outputs": [
    {
     "name": "stdout",
     "output_type": "stream",
     "text": [
      "CSV file generated\n"
     ]
    }
   ],
   "source": [
    "# export csv file\n",
    "df1.to_csv(\"cancer_journal_wordcount.csv\")\n",
    "\n",
    "print(\"CSV file generated\")"
   ]
  },
  {
   "cell_type": "markdown",
   "metadata": {},
   "source": [
    "### Conclusion:\n",
    "\n",
    "- With time, research on cancer is rapidly growing.\n",
    "\n",
    "- 74 papers have been published on Phase-II clinical Trial, followed by 47 on Phase-I, 29 on Phase-III.\n",
    "\n",
    "- Most cancer researches are happening on `Albumin bound` compounds, `Nano-particles`, and `Taxol` substitutes.\n",
    "\n",
    "\n",
    "\n",
    "#### Note:\n",
    "\n",
    "- The analysis is done using the data as it was fetched from the website. \n",
    "- No personal level manipulation of data has been done.\n",
    "- Though the total number of actual published will be more than the fetched data, this method of analysis can work to analyze and understand the trend in cancer or any other type of research works better."
   ]
  }
 ],
 "metadata": {
  "interpreter": {
   "hash": "916dbcbb3f70747c44a77c7bcd40155683ae19c65e1c03b4aa3499c5328201f1"
  },
  "kernelspec": {
   "display_name": "Python 3.9.7 64-bit",
   "language": "python",
   "name": "python3"
  },
  "language_info": {
   "codemirror_mode": {
    "name": "ipython",
    "version": 3
   },
   "file_extension": ".py",
   "mimetype": "text/x-python",
   "name": "python",
   "nbconvert_exporter": "python",
   "pygments_lexer": "ipython3",
   "version": "3.9.7"
  },
  "orig_nbformat": 4
 },
 "nbformat": 4,
 "nbformat_minor": 2
}
